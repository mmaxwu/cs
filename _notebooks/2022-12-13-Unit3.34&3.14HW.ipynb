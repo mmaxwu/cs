{
 "cells": [
  {
   "cell_type": "markdown",
   "metadata": {},
   "source": [
    "# Unit 3 Sections 12 and 13 HW\n",
    "- title: Unit 3 Sections 12 and 13 HW\n",
    "- description: Math\n",
    "- toc: true\n",
    "- comments: true\n",
    "- categories: [Week 16, jupyter] "
   ]
  },
  {
   "cell_type": "markdown",
   "metadata": {},
   "source": [
    "## Hacks"
   ]
  },
  {
   "cell_type": "markdown",
   "metadata": {},
   "source": [
    "Two other popular Python libraries that are commonly used by programmers are Pandas and Matplotlib.\n",
    "\n",
    "Pandas is a library for working with data in Python. It provides tools for reading and writing data to various formats, as well as tools for manipulating and analyzing data. For example, Pandas includes functions for filtering and sorting data, as well as tools for performing operations like groupby and pivot tables. This makes Pandas a useful tool for working with large datasets, especially those that are tabular or structured in some way.\n",
    "\n",
    "Matplotlib is a library for creating visualizations in Python. It provides a wide range of plotting functions and tools, including functions for creating scatter plots, line plots, histograms, and more. Matplotlib also includes support for customization and formatting of plots, allowing programmers to create high-quality visualizations that are tailored to their specific needs. This makes Matplotlib a valuable tool for exploring and understanding data, as well as for presenting results and findings to others.\n",
    "\n",
    "Together, these two libraries provide a powerful set of tools for working with data in Python. Pandas makes it easy to import, manipulate, and analyze data, while Matplotlib provides a variety of tools for creating visualizations that can help to better understand and communicate the insights that can be gleaned from the data. These libraries are commonly used in a wide range of fields, including data science, scientific computing, and machine learning, and can save programmers a significant amount of time and effort when working with data in Python."
   ]
  },
  {
   "cell_type": "markdown",
   "metadata": {},
   "source": [
    "## Write a procedure that generates n random numbers, then sorts those numbers into lists of even and odd numbers"
   ]
  },
  {
   "cell_type": "code",
   "execution_count": 3,
   "metadata": {},
   "outputs": [
    {
     "name": "stdout",
     "output_type": "stream",
     "text": [
      "[92, 84, 44, 40, 34, 24, 68]\n",
      "[11, 27, 63]\n"
     ]
    }
   ],
   "source": [
    "import random #random module\n",
    "\n",
    "def generate_and_sort_random_numbers(n):\n",
    "  even_numbers = [] ## Create an empty list for even numbers\n",
    "  odd_numbers = [] ## Create an empty list for odd numbers\n",
    "\n",
    "  for i in range(n):\n",
    "    number = random.randint(0, 100)\n",
    "    if number % 2 == 0: ## Checks if number is even\n",
    "      even_numbers.append(number)\n",
    "    else: ## Number is odd \n",
    "      odd_numbers.append(number)\n",
    "\n",
    "  return even_numbers, odd_numbers\n",
    "\n",
    "even_numbers, odd_numbers = generate_and_sort_random_numbers(10) ## This would generate 10 random numbers, then sort them into lists of even and odd numbers, and return those lists\n",
    "\n",
    "print(even_numbers)  \n",
    "print(odd_numbers)  \n"
   ]
  },
  {
   "cell_type": "markdown",
   "metadata": {},
   "source": [
    "## Derivative"
   ]
  },
  {
   "cell_type": "code",
   "execution_count": 3,
   "metadata": {},
   "outputs": [
    {
     "name": "stdout",
     "output_type": "stream",
     "text": [
      "The derivative of f1(x) at x = 9 is []\n",
      "The derivative of f2(x) at x = 9 is []\n"
     ]
    }
   ],
   "source": [
    "import numpy as np\n",
    "\n",
    "def find_derivative(x):\n",
    "    f1 = 2 * x**5 - 6 * x**2 + 24 * x\n",
    "    f2 = (13 * x**4 + 4 * x**2) / 2\n",
    "\n",
    "    # Use NumPy's gradient() function to calculate the derivative of each function\n",
    "    df1 = np.gradient(f1)\n",
    "    df2 = np.gradient(f2)\n",
    "\n",
    "    return df1, df2\n",
    "\n",
    "df1, df2 = find_derivative(9)\n",
    "\n",
    "# Print the results\n",
    "print(\"The derivative of f1(x) at x = 9 is\", df1)\n",
    "print(\"The derivative of f2(x) at x = 9 is\", df2)\n",
    "\n"
   ]
  },
  {
   "cell_type": "markdown",
   "metadata": {},
   "source": [
    "## Random"
   ]
  },
  {
   "cell_type": "code",
   "execution_count": 4,
   "metadata": {},
   "outputs": [
    {
     "name": "stdout",
     "output_type": "stream",
     "text": [
      "['dog', 'cat', 'cat', 'dog', 'dog', 'cat', 'dog', 'cat', 'dog', 'dog', 'cat', 'cat', 'dog', 'dog', 'cat', 'cat', 'cat', 'cat', 'dog', 'dog']\n"
     ]
    }
   ],
   "source": [
    "import random\n",
    "\n",
    "# Create a list of dogs and cats\n",
    "animals = [\"dog\"] * 10 + [\"cat\"] * 10\n",
    "\n",
    "# Use the shuffle() function to randomly rearrange the order of the animals\n",
    "random.shuffle(animals)\n",
    "\n",
    "# Print the resulting list of animals\n",
    "print(animals)\n"
   ]
  },
  {
   "cell_type": "markdown",
   "metadata": {},
   "source": [
    "This code creates a list of \"dog\" and \"cat\" strings, with 10 of each, and then uses the shuffle function to randomly rearrange the order of the animals in the list. Finally, the resulting list is printed to the screen."
   ]
  }
 ],
 "metadata": {
  "kernelspec": {
   "display_name": "Python 3.9.12 ('base')",
   "language": "python",
   "name": "python3"
  },
  "language_info": {
   "codemirror_mode": {
    "name": "ipython",
    "version": 3
   },
   "file_extension": ".py",
   "mimetype": "text/x-python",
   "name": "python",
   "nbconvert_exporter": "python",
   "pygments_lexer": "ipython3",
   "version": "3.9.12"
  },
  "orig_nbformat": 4,
  "vscode": {
   "interpreter": {
    "hash": "a10671c5b9c852b741a6a0226ab1bf4066d1a7d8be4e3a83022fbdfd58404dd8"
   }
  }
 },
 "nbformat": 4,
 "nbformat_minor": 2
}
