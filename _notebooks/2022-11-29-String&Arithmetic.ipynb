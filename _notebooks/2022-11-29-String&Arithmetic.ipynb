{
 "cells": [
  {
   "cell_type": "markdown",
   "metadata": {},
   "source": [
    "# String & Arithmetic Problems\n",
    "- title: String & Arithmetic Problems\n",
    "- toc: true\n",
    "- comments: true\n",
    "- categories: [Week 14, jupyter] "
   ]
  },
  {
   "cell_type": "markdown",
   "metadata": {},
   "source": [
    "## Hacks #1"
   ]
  },
  {
   "cell_type": "code",
   "execution_count": 2,
   "metadata": {},
   "outputs": [],
   "source": [
    "Num1 = 50 \n",
    "Num2 = Num1 % 9 + 15 # MOD comes before addition. 50 divided 9 is 5 remainder 5 since MOD only takes the value of the remainder, it will now be 5 + 15 which will make Num2 = 20\n",
    "Num3 = Num2 / Num1 + ( Num2 * 2 ) # Parenthesis come first. Num2 equals 20. 20 times 2 equals 40. Next operation will be division. Num2, 20, divided by Num1, 50 is 0.4. Next is addition. 0.4 + 40 is 40.4. So Num3 = 40.4\n",
    "Num4 = Num3 + Num1 / 5 - 10 # Division comes first. Num1 equals 50, so 50 divided by 5 is 10. Next is addition and subtraction. Num3 is 40.4. 40.4 + 10 - 10 is 40.4. So Num4 = 40.4\n",
    "Result = Num4 - Num2 # Num4 equals 40.4 and Num2 equals 20. 40.4 - 20 is 20.4. So Result = 20.4\n",
    "print(Result)"
   ]
  },
  {
   "cell_type": "markdown",
   "metadata": {},
   "source": [
    "<mark>Result = 20.4</mark>"
   ]
  },
  {
   "cell_type": "code",
   "execution_count": 4,
   "metadata": {},
   "outputs": [],
   "source": [
    "Num1 = 10\n",
    "Num2 = Num1 % 3 * 4 # Num1 equals 10. MOD and multiplication go from left to right. 10 divided by 3 is 3 remainder 1 since MOD only takes the value of the remainder, it will now be 1 * 4 which will make Num2 = 4\n",
    "Num1 = Num2 # The value of Num2, 4, will now be the value of Num1. Num1 = 4\n",
    "Num3 = Num1 * 3 # The value of Num1 is now 4. 4 * 3 is 12. Num3 = 12\n",
    "Result = Num3 % 2 # The value of Num3 is 12. 12 divided by 2 is 6 remainder 0. MOD only takes the value of the remainder. Result = 0\n",
    "print(Result)"
   ]
  },
  {
   "cell_type": "markdown",
   "metadata": {},
   "source": [
    "<mark>Result = 0</mark>"
   ]
  },
  {
   "cell_type": "code",
   "execution_count": 9,
   "metadata": {},
   "outputs": [],
   "source": [
    "valueA = 4\n",
    "valueB = 90\n",
    "valueC = 17\n",
    "valueB = valueC - valueA # valueC = 17 and valueA = 4. 17 - 4 is 13. The result is being assigned as the new value of valueB, so valueB is now 13.\n",
    "valueA = valueA * 10 # valueA is 4. 4 * 10 is 40. The result is being assigned as the new value of valueA, so valueA is now 40\n",
    "if valueB > 10: # valueB is now 13. 13 is greater than 10. So it will print valueC, which is 17.\n",
    "    print(valueC)"
   ]
  },
  {
   "cell_type": "markdown",
   "metadata": {},
   "source": [
    "<mark>17</mark>"
   ]
  },
  {
   "cell_type": "code",
   "execution_count": 11,
   "metadata": {},
   "outputs": [],
   "source": [
    "type = \"curly\" # initial value of variable \"type\"\n",
    "color = \"brown\"\n",
    "length = \"short\"\n",
    "type = \"straight\" # value of variable \"type\" is now \"straight\"\n",
    "hair = type + color + length # the addition of these non integer values will just concatenate the variables, so print will output \"straightbrownshort\"\n",
    "print(hair)"
   ]
  },
  {
   "cell_type": "markdown",
   "metadata": {},
   "source": [
    "<mark>straightbrownshort</mark>"
   ]
  },
  {
   "cell_type": "markdown",
   "metadata": {},
   "source": [
    "## Hacks #2"
   ]
  },
  {
   "cell_type": "code",
   "execution_count": 37,
   "metadata": {},
   "outputs": [
    {
     "name": "stdout",
     "output_type": "stream",
     "text": [
      "Mr. Mortenson is very handsome.\n"
     ]
    }
   ],
   "source": [
    "Noun = \"Mr. Mortenson\" \n",
    "Adjective = \"handsome\" \n",
    "Adjective2 = \"very\" \n",
    "Verb = \"is\" \n",
    "abrev = Noun[0:13] \n",
    "yoda = (abrev + \" \" + Verb + \" \" + Adjective2 + \" \" + Adjective + \".\") \n",
    "print(yoda)"
   ]
  },
  {
   "cell_type": "code",
   "execution_count": 38,
   "metadata": {},
   "outputs": [
    {
     "name": "stdout",
     "output_type": "stream",
     "text": [
      "choclatevote225 rasinvote4.0\n"
     ]
    }
   ],
   "source": [
    "cookie = \"choclate\" # 8 characters in the incorrectly spelled word \"choclate\"\n",
    "cookie2 = \"rasin\" # 5 characters in the incorrectly spelled word \"raisin\"\n",
    "len1 = len(cookie) / 2 # there are 8 characters in \"choclate\", so len(cookie) = 8. 8 divided by 2 is 4 so len1 equals 4\n",
    "len2 = len(cookie2) * 45 # there are 6 characters in \"rasin\", so len(cookie2) = 5. 5 times 45 is 225 so len2 equals 225\n",
    "vote1 = str(cookie) + \"vote\" + str(len2) # I think they want to concatenate these together. The value of cookie is \"choclate\" and len2 is 225. So vote1 is assigned \"choclatevote225\" (no space in between)\n",
    "vote2 = str(cookie2) + \"vote\" + str(len1) # I think they want to concatenate these together. The value of cookie2 is \"rasin\" and len1 is 4. So vote1 is assigned \"rasinvote4\" (no space in between)\n",
    "votes = str(vote1) + \" \" + str(vote2) # concatenate vote1 and vote2 to get \"choclatevote225 rasinvote4\"\n",
    "print(votes) # vote will be displayed as \"choclatevote225 rasinvote4\""
   ]
  }
 ],
 "metadata": {
  "kernelspec": {
   "display_name": "Python 3.8.9 64-bit",
   "language": "python",
   "name": "python3"
  },
  "language_info": {
   "codemirror_mode": {
    "name": "ipython",
    "version": 3
   },
   "file_extension": ".py",
   "mimetype": "text/x-python",
   "name": "python",
   "nbconvert_exporter": "python",
   "pygments_lexer": "ipython3",
   "version": "3.8.9"
  },
  "orig_nbformat": 4,
  "vscode": {
   "interpreter": {
    "hash": "31f2aee4e71d21fbe5cf8b01ff0e069b9275f58929596ceb00d14d90e3e16cd6"
   }
  }
 },
 "nbformat": 4,
 "nbformat_minor": 2
}
