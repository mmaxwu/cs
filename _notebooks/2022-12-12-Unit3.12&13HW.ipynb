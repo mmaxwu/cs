{
 "cells": [
  {
   "cell_type": "markdown",
   "metadata": {},
   "source": [
    "# Unit 3 Sections 12 and 13 HW\n",
    "- title: Unit 3 Sections 12 and 13 HW\n",
    "- description: Python Procedure which can help me in school\n",
    "- toc: true\n",
    "- comments: true\n",
    "- categories: [Week 16, jupyter] "
   ]
  },
  {
   "cell_type": "markdown",
   "metadata": {},
   "source": [
    "## Homework Organizer"
   ]
  },
  {
   "cell_type": "code",
   "execution_count": 3,
   "metadata": {},
   "outputs": [
    {
     "name": "stdout",
     "output_type": "stream",
     "text": [
      "CS Hacks is due on 2022-12-12\n",
      "Physics pendulum mini lab is due on 2022-12-12\n",
      "Calc HW is due on 2022-12-13\n",
      "CS Presentation is due on 2022-12-14\n"
     ]
    }
   ],
   "source": [
    "def homework_organizer(assignments):\n",
    "  # Sort the homework assignments by due date\n",
    "  sorted_assignments = sorted(assignments, key=lambda x: x[1])\n",
    "  \n",
    "  # Print the sorted homework assignments\n",
    "  for assignment in sorted_assignments:\n",
    "    print(assignment[0], \"is due on\", assignment[1])\n",
    "\n",
    "assignments = [\n",
    "    (\"Calc HW\", \"2022-12-13\"),\n",
    "    (\"CS Hacks\", \"2022-12-12\"),\n",
    "    (\"Physics pendulum mini lab\", \"2022-12-12\"),\n",
    "    (\"CS Presentation\", \"2022-12-14\")\n",
    "]\n",
    "\n",
    "homework_organizer(assignments)\n"
   ]
  },
  {
   "cell_type": "markdown",
   "metadata": {},
   "source": [
    "This procedure takes a list of homework assignments as input and sorts them by their due date. Then, it prints each assignment and its corresponding due date in order."
   ]
  },
  {
   "cell_type": "markdown",
   "metadata": {},
   "source": [
    "## GPA Calculator"
   ]
  },
  {
   "cell_type": "code",
   "execution_count": 5,
   "metadata": {},
   "outputs": [
    {
     "name": "stdout",
     "output_type": "stream",
     "text": [
      "Your GPA is 3.8181818181818183\n"
     ]
    }
   ],
   "source": [
    "def calculate_gpa(grades, credits):\n",
    "  total_credits = 0\n",
    "  total_grade_points = 0\n",
    "  \n",
    "  # Loop through the grades and credits and calculate the total\n",
    "  # number of credits and grade points\n",
    "  for i in range(len(grades)):\n",
    "    grade = grades[i]\n",
    "    credit = credits[i]\n",
    "    \n",
    "    if grade == \"A\":\n",
    "      grade_points = 4.0\n",
    "    elif grade == \"B\":\n",
    "      grade_points = 3.0\n",
    "    elif grade == \"C\":\n",
    "      grade_points = 2.0\n",
    "    elif grade == \"D\":\n",
    "      grade_points = 1.0\n",
    "    else:\n",
    "      grade_points = 0.0\n",
    "      \n",
    "    total_credits += credit\n",
    "    total_grade_points += grade_points * credit\n",
    "  \n",
    "  # Calculate and return the GPA\n",
    "  gpa = total_grade_points / total_credits\n",
    "  return gpa\n",
    "\n",
    "# Example usage\n",
    "grades = [\"A\", \"A\", \"A\", \"B\"]\n",
    "credits = [3, 3, 3, 2]\n",
    "\n",
    "gpa = calculate_gpa(grades, credits)\n",
    "print(\"Your GPA is\", gpa)\n"
   ]
  },
  {
   "cell_type": "markdown",
   "metadata": {},
   "source": [
    "This procedure takes two lists as input: one for the grades of your courses and one for the number of credits of each course. It calculates your GPA by converting each grade to grade points (A = 4.0, B = 3.0, etc.), multiplying the grade points by the number of credits of the course, and then dividing the total number of grade points by the total number of credits."
   ]
  }
 ],
 "metadata": {
  "kernelspec": {
   "display_name": "Python 3.8.9 64-bit",
   "language": "python",
   "name": "python3"
  },
  "language_info": {
   "codemirror_mode": {
    "name": "ipython",
    "version": 3
   },
   "file_extension": ".py",
   "mimetype": "text/x-python",
   "name": "python",
   "nbconvert_exporter": "python",
   "pygments_lexer": "ipython3",
   "version": "3.8.9"
  },
  "orig_nbformat": 4,
  "vscode": {
   "interpreter": {
    "hash": "31f2aee4e71d21fbe5cf8b01ff0e069b9275f58929596ceb00d14d90e3e16cd6"
   }
  }
 },
 "nbformat": 4,
 "nbformat_minor": 2
}
