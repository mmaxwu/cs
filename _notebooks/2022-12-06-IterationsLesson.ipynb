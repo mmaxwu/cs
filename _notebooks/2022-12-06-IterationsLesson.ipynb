{
 "cells": [
  {
   "cell_type": "markdown",
   "metadata": {},
   "source": [
    "# Unit 3 Sections 8 and 10 lesson\n",
    "- title: Unit 3 Sections 8 and 10 lesson\n",
    "- toc: true\n",
    "- comments: true\n",
    "- categories: [Week 15, jupyter] "
   ]
  },
  {
   "cell_type": "code",
   "execution_count": 1,
   "metadata": {},
   "outputs": [
    {
     "name": "stdout",
     "output_type": "stream",
     "text": [
      "['football', 'hockey', 'baseball', 'basketball']\n"
     ]
    }
   ],
   "source": [
    "sports = [\"football\", \"soccer\", \"baseball\", \"basketball\"]\n",
    "\n",
    "# change the value \"soccer\" to \"hockey\"\n",
    "sports.remove(\"soccer\")\n",
    "sports.insert(1, \"hockey\")\n",
    "print (sports)"
   ]
  },
  {
   "cell_type": "code",
   "execution_count": 2,
   "metadata": {},
   "outputs": [
    {
     "name": "stdout",
     "output_type": "stream",
     "text": [
      "['football', 'soccer', 'golf', 'baseball', 'basketball']\n"
     ]
    }
   ],
   "source": [
    "sports = [\"football\", \"soccer\", \"baseball\", \"basketball\"]\n",
    "sports.insert(2, \"golf\")\n",
    "# add \"golf\" as the 3rd element in the list\n",
    "print (sports)"
   ]
  },
  {
   "cell_type": "markdown",
   "metadata": {},
   "source": [
    "## HW Iterations"
   ]
  },
  {
   "cell_type": "code",
   "execution_count": 3,
   "metadata": {},
   "outputs": [
    {
     "name": "stdout",
     "output_type": "stream",
     "text": [
      "Please type in a word (alphabets ONLY) ...\n",
      "toby ->\n",
      "\n",
      "tango\n",
      "oscar\n",
      "beta\n",
      "yankee\n"
     ]
    }
   ],
   "source": [
    "# Create list of phonetic alpabets\n",
    "\n",
    "words = [\"alfa\", \"beta\", \"charlie\", \"delta\", \"echo\", \"foxtrot\", \"golf\", \"hotel\", \"india\", \"julitt\", \"kilo\", \"lima\", \"mike\", \"november\", \"oscar\", \"papa\", \"quebec\", \"romeo\", \"sierra\", \"tango\", \"uniform\", \"victor\", \"wiskey\", \"xray\", \"yankee\", \"zulu\"]\n",
    "\n",
    "\n",
    "# Get ASCII value of char 'a'\n",
    "\n",
    "ascii_a = ord('a');\n",
    "\n",
    "\n",
    "# Get input from terminal\n",
    "\n",
    "print(\"Please type in a word (alphabets ONLY) ...\")\n",
    "\n",
    "in_string = input()\n",
    "\n",
    "\n",
    "\n",
    "# Convert the input string into all lower case\n",
    "\n",
    "in_string = in_string.lower()\n",
    "\n",
    "print(in_string + \" ->\" + \"\\n\")\n",
    "\n",
    "\n",
    "# Find ASCII value of each \"char\" in the \"string\"\n",
    "\n",
    "# The difference of ASCII value between these characters and \"a\"\n",
    "\n",
    "# will become the index to the list of words\n",
    "\n",
    "\n",
    "for k in range(len(in_string)) :\n",
    "\n",
    "     in_ascii = ord(in_string[k]) - ascii_a\n",
    "\n",
    "     print(words[in_ascii])"
   ]
  },
  {
   "cell_type": "markdown",
   "metadata": {},
   "source": [
    "## 2D Array\n",
    "- Find another way to print the matrix"
   ]
  },
  {
   "cell_type": "code",
   "execution_count": 4,
   "metadata": {},
   "outputs": [
    {
     "name": "stdout",
     "output_type": "stream",
     "text": [
      "1 2 3\n",
      "4 5 6\n",
      "7 8 9\n",
      "  0  \n"
     ]
    }
   ],
   "source": [
    "keypad =   [[1, 2, 3],\n",
    "            [4, 5, 6],\n",
    "            [7, 8, 9],\n",
    "            [\" \", 0, \" \"]]\n",
    "\n",
    "def print_matrix3(matrix):\n",
    "    for i in matrix:\n",
    "        print(*i)\n",
    "            \n",
    "print_matrix3(keypad)"
   ]
  },
  {
   "cell_type": "markdown",
   "metadata": {},
   "source": [
    "## Hacks\n",
    "- Print what month you were born and how old you are by iterating through the keyboard (don't just write a string)."
   ]
  },
  {
   "cell_type": "code",
   "execution_count": 5,
   "metadata": {},
   "outputs": [
    {
     "name": "stdout",
     "output_type": "stream",
     "text": [
      "My name is : \n",
      "M\n",
      "A\n",
      "X\n",
      "\n",
      "\n",
      "My birthday is : \n",
      "2\n",
      "0\n",
      "0\n",
      "6\n",
      ".\n",
      "1\n",
      ".\n",
      "2\n",
      "5\n",
      "\n",
      "\n",
      "The month of my birthday is : \n",
      "J\n",
      "A\n",
      "N\n",
      "U\n",
      "A\n",
      "R\n",
      "Y\n",
      "\n",
      "\n",
      "My age is : \n",
      "1\n",
      "6\n",
      "\n",
      "\n"
     ]
    }
   ],
   "source": [
    "def lookup_keyboard(msg) :\n",
    "\n",
    "\n",
    "\n",
    "# Create a virtual keyboard by 2-D array\n",
    "\n",
    "#   - It is actually a list, with 2-dimenstion \n",
    "\n",
    "#   - In total it has 4 rows, each row has different number of list elements \n",
    "\n",
    "\n",
    "\n",
    "     keyboard = [[\"`\", 1, 2, 3, 4, 5, 6, 7, 8, 9, 0, \"-\", \"=\"],\n",
    "\n",
    "                 [\"Q\", \"W\", \"E\", \"R\", \"T\", \"Y\", \"U\", \"I\", \"O\", \"P\", \"[\", \"]\"],\n",
    "\n",
    "                 [\"A\", \"S\", \"D\", \"F\", \"G\", \"H\", \"J\", \"K\", \"L\", \";\", \"'\"],\n",
    "\n",
    "                 [\"Z\", \"X\", \"C\", \"V\", \"B\", \"N\", \"M\", \",\", \".\", \"/\"] ]\n",
    "\n",
    "\n",
    "\n",
    "     for k in range(len(msg)) :  # Loop each letter in mybirthday\n",
    "\n",
    "          bb = msg[k]   # Get the k-th letter in mybirthday\n",
    "\n",
    "          if bb.isnumeric() :  # Convert it to a number if it is numeric\n",
    "\n",
    "               bb = int(bb)\n",
    "\n",
    "          for i in range(4) :   # Loop through each row of keyboard array\n",
    "\n",
    "               if keyboard[i].count(bb) : # To check if an element is in the list or NOT\n",
    "\n",
    "                    idx = keyboard[i].index(bb)  # If it is in, then find its index\n",
    "\n",
    "                    print(keyboard[i][idx])  # Print out the letter in myname by index\n",
    "\n",
    "\n",
    "\n",
    "\n",
    "\n",
    "\n",
    "\n",
    "myname = \"Max\"\n",
    "\n",
    "myname = myname.upper()\n",
    "\n",
    "print(\"My name is : \")\n",
    "\n",
    "lookup_keyboard(myname)\n",
    "\n",
    "print(\"\\n\")\n",
    "\n",
    "\n",
    "\n",
    "\n",
    "\n",
    "mybirthday= \"2006.1.25\"\n",
    "\n",
    "mybirthday= mybirthday.upper()\n",
    "\n",
    "print(\"My birthday is : \")\n",
    "\n",
    "lookup_keyboard(mybirthday)\n",
    "\n",
    "print(\"\\n\")\n",
    "\n",
    "\n",
    "\n",
    "mymonth = \"January\"\n",
    "\n",
    "mymonth= mymonth.upper()\n",
    "\n",
    "print(\"The month of my birthday is : \")\n",
    "\n",
    "lookup_keyboard(mymonth)\n",
    "\n",
    "print(\"\\n\")\n",
    "\n",
    "\n",
    "\n",
    "myage = \"16\"\n",
    "\n",
    "myage = myage.upper()\n",
    "\n",
    "print(\"My age is : \")\n",
    "\n",
    "lookup_keyboard(myage)\n",
    "\n",
    "print(\"\\n\")"
   ]
  }
 ],
 "metadata": {
  "kernelspec": {
   "display_name": "Python 3.8.9 64-bit",
   "language": "python",
   "name": "python3"
  },
  "language_info": {
   "codemirror_mode": {
    "name": "ipython",
    "version": 3
   },
   "file_extension": ".py",
   "mimetype": "text/x-python",
   "name": "python",
   "nbconvert_exporter": "python",
   "pygments_lexer": "ipython3",
   "version": "3.8.9"
  },
  "orig_nbformat": 4,
  "vscode": {
   "interpreter": {
    "hash": "31f2aee4e71d21fbe5cf8b01ff0e069b9275f58929596ceb00d14d90e3e16cd6"
   }
  }
 },
 "nbformat": 4,
 "nbformat_minor": 2
}
