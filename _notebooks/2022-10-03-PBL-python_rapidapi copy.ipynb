{
 "cells": [
  {
   "cell_type": "markdown",
   "metadata": {},
   "source": [
    "# Application Programming Interface (API)\n",
    "> APIs can be found all over the internet.  A great consolidator of many APIs is <mark>RapidAPI</mark>.  In this blog we will use a site to consolidates API stats.  Learning a few lines of code and you can start extracting lots of data from the internet via APIs.  \n",
    "- title: Python RapidAPI\n",
    "- toc: true\n",
    "- image: /images/rapidapi.png\n",
    "- permalink: /techtalk/rapidapi\n",
    "- categories: [1.A, 5.B, 5.D]\n",
    "- tags: [api, rapidapi]\n",
    "- type: pbl\n",
    "- week: 7"
   ]
  },
  {
   "cell_type": "markdown",
   "metadata": {},
   "source": [
    "### Python, RapidAPI Terms\n",
    "> APIs and tooling like Jupyter docs allows many opportunities in fields like Data Science.  As more and more developers use APIs, they build standards in how you setup a client, send requests and receive information..."
   ]
  },
  {
   "cell_type": "markdown",
   "metadata": {},
   "source": [
    "### Covid19 RapidAPI Example\n",
    "> To begin the API journey.  You need to find an API provider.  \n",
    "\n",
    "- RapidAPI is a great option.  You must setup and account, but there are many free options.\n",
    "- Goto this page for starters, the [Corona virus World and India data](https://rapidapi.com/spamakashrajtech/api/corona-virus-world-and-india-data/)\n",
    "- Under Code Snippets pick Python - Requests\n",
    "\n",
    "RapidAPI, you will select Python Requests type of code to work with you Notebook.\n",
    "- The url is the endpoint to which the API is directed\n",
    "- The headers is a dictionary data structure to send special messaging to the endpoint \n",
    "- The requests.request() python function is used to send a request and retrieve their responses\n",
    "- The response variable receives result of of the request in JSON text\n",
    "\n",
    "Next step, is to format the response according to your data science needs"
   ]
  },
  {
   "cell_type": "code",
   "execution_count": 1,
   "metadata": {},
   "outputs": [
    {
     "ename": "ModuleNotFoundError",
     "evalue": "No module named 'requests'",
     "output_type": "error",
     "traceback": [
      "\u001b[0;31m---------------------------------------------------------------------------\u001b[0m",
      "\u001b[0;31mModuleNotFoundError\u001b[0m                       Traceback (most recent call last)",
      "\u001b[1;32m/Users/lixiwu/Documents/Computer Science/CSP/cs/_notebooks/2022-10-03-PBL-python_rapidapi copy.ipynb Cell 4\u001b[0m in \u001b[0;36m<cell line: 5>\u001b[0;34m()\u001b[0m\n\u001b[1;32m      <a href='vscode-notebook-cell:/Users/lixiwu/Documents/Computer%20Science/CSP/cs/_notebooks/2022-10-03-PBL-python_rapidapi%20copy.ipynb#W3sZmlsZQ%3D%3D?line=0'>1</a>\u001b[0m \u001b[39m\"\"\"\u001b[39;00m\n\u001b[1;32m      <a href='vscode-notebook-cell:/Users/lixiwu/Documents/Computer%20Science/CSP/cs/_notebooks/2022-10-03-PBL-python_rapidapi%20copy.ipynb#W3sZmlsZQ%3D%3D?line=1'>2</a>\u001b[0m \u001b[39mRequests is a HTTP library for the Python programming language. \u001b[39;00m\n\u001b[1;32m      <a href='vscode-notebook-cell:/Users/lixiwu/Documents/Computer%20Science/CSP/cs/_notebooks/2022-10-03-PBL-python_rapidapi%20copy.ipynb#W3sZmlsZQ%3D%3D?line=2'>3</a>\u001b[0m \u001b[39mThe goal of the project is to make HTTP requests simpler and more human-friendly. \u001b[39;00m\n\u001b[1;32m      <a href='vscode-notebook-cell:/Users/lixiwu/Documents/Computer%20Science/CSP/cs/_notebooks/2022-10-03-PBL-python_rapidapi%20copy.ipynb#W3sZmlsZQ%3D%3D?line=3'>4</a>\u001b[0m \u001b[39m\"\"\"\u001b[39;00m\n\u001b[0;32m----> <a href='vscode-notebook-cell:/Users/lixiwu/Documents/Computer%20Science/CSP/cs/_notebooks/2022-10-03-PBL-python_rapidapi%20copy.ipynb#W3sZmlsZQ%3D%3D?line=4'>5</a>\u001b[0m \u001b[39mimport\u001b[39;00m \u001b[39mrequests\u001b[39;00m\n\u001b[1;32m      <a href='vscode-notebook-cell:/Users/lixiwu/Documents/Computer%20Science/CSP/cs/_notebooks/2022-10-03-PBL-python_rapidapi%20copy.ipynb#W3sZmlsZQ%3D%3D?line=6'>7</a>\u001b[0m \u001b[39m\"\"\"\u001b[39;00m\n\u001b[1;32m      <a href='vscode-notebook-cell:/Users/lixiwu/Documents/Computer%20Science/CSP/cs/_notebooks/2022-10-03-PBL-python_rapidapi%20copy.ipynb#W3sZmlsZQ%3D%3D?line=7'>8</a>\u001b[0m \u001b[39mRapidAPI is the world's largest API Marketplace. \u001b[39;00m\n\u001b[1;32m      <a href='vscode-notebook-cell:/Users/lixiwu/Documents/Computer%20Science/CSP/cs/_notebooks/2022-10-03-PBL-python_rapidapi%20copy.ipynb#W3sZmlsZQ%3D%3D?line=8'>9</a>\u001b[0m \u001b[39mDevelopers use Rapid API to discover and connect to thousands of APIs. \u001b[39;00m\n\u001b[1;32m     <a href='vscode-notebook-cell:/Users/lixiwu/Documents/Computer%20Science/CSP/cs/_notebooks/2022-10-03-PBL-python_rapidapi%20copy.ipynb#W3sZmlsZQ%3D%3D?line=9'>10</a>\u001b[0m \u001b[39m\"\"\"\u001b[39;00m\n\u001b[1;32m     <a href='vscode-notebook-cell:/Users/lixiwu/Documents/Computer%20Science/CSP/cs/_notebooks/2022-10-03-PBL-python_rapidapi%20copy.ipynb#W3sZmlsZQ%3D%3D?line=10'>11</a>\u001b[0m url \u001b[39m=\u001b[39m \u001b[39m\"\u001b[39m\u001b[39mhttps://corona-virus-world-and-india-data.p.rapidapi.com/api\u001b[39m\u001b[39m\"\u001b[39m\n",
      "\u001b[0;31mModuleNotFoundError\u001b[0m: No module named 'requests'"
     ]
    }
   ],
   "source": [
    "\"\"\"\n",
    "Requests is a HTTP library for the Python programming language. \n",
    "The goal of the project is to make HTTP requests simpler and more human-friendly. \n",
    "\"\"\"\n",
    "import requests\n",
    "\n",
    "\"\"\"\n",
    "RapidAPI is the world's largest API Marketplace. \n",
    "Developers use Rapid API to discover and connect to thousands of APIs. \n",
    "\"\"\"\n",
    "url = \"https://corona-virus-world-and-india-data.p.rapidapi.com/api\"\n",
    "headers = {\n",
    "    'x-rapidapi-key': \"9b50286be4msh2824eb80bdc078fp151cd7jsn94c270f9f41b\",\n",
    "    'x-rapidapi-host': \"corona-virus-world-and-india-data.p.rapidapi.com\"\n",
    "}\n",
    "\n",
    "# Request Covid Data\n",
    "response = requests.request(\"GET\", url, headers=headers)\n",
    "# print(response.text)  # uncomment this line to see raw data\n",
    "print(response.json())\n",
    "# This code looks for \"world data\"\n",
    "print(\"World Totals\")\n",
    "world = response.json().get('world_total')  # turn response to json() so we can extract \"world_total\"\n",
    "for key, value in world.items():  # this finds key, value pairs in country\n",
    "    print(key, value)\n",
    "\n",
    "print()\n",
    "\n",
    "# This code looks for USA in \"countries_stats\"\n",
    "print(\"Country Totals\")\n",
    "countries = response.json().get('countries_stat')\n",
    "for country in countries:  # countries is a list\n",
    "    if country[\"country_name\"] == \"USA\":  # this filters for USA\n",
    "        for key, value in country.items():  # this finds key, value pairs in country\n",
    "            print(key, value)\n"
   ]
  },
  {
   "cell_type": "markdown",
   "metadata": {},
   "source": [
    "### Digital Coin Example\n",
    "> This example provides digital coin feedback (ie Bitcoin).  It include popularity, price, symbols, etc.\n",
    "- A valid X-RapidAPI-Key is required.  Look in code for link to RapidAPI page\n",
    "- Read all comments in code for further guidance"
   ]
  },
  {
   "cell_type": "code",
   "execution_count": 2,
   "metadata": {},
   "outputs": [
    {
     "name": "stdout",
     "output_type": "stream",
     "text": [
      "{\"message\":\"You are not subscribed to this API.\"}\n"
     ]
    }
   ],
   "source": [
    "# Request Digital Coin\n",
    "# RapidAPI page https://rapidapi.com/Coinranking/api/coinranking1/\n",
    "\n",
    "# Begin Rapid API Code\n",
    "import requests\n",
    "\n",
    "url = \"https://coinranking1.p.rapidapi.com/coins\"\n",
    "querystring = {\"referenceCurrencyUuid\":\"yhjMzLPhuIDl\",\"timePeriod\":\"24h\",\"tiers[0]\":\"1\",\"orderBy\":\"marketCap\",\"orderDirection\":\"desc\",\"limit\":\"50\",\"offset\":\"0\"}\n",
    "headers = {\n",
    "\t\"X-RapidAPI-Key\": \"jcmbea0fa2ff5msh7f14bf69be38ca6p175482jsn6c4988114560\",  # place your key here\n",
    "\t\"X-RapidAPI-Host\": \"coinranking1.p.rapidapi.com\"\n",
    "}\n",
    "\n",
    "response = requests.request(\"GET\", url, headers=headers, params=querystring)\n",
    "print(response.text)\n",
    "# End Rapid API Code\n",
    "json = response.json()  # convert response to python json object\n",
    "\n",
    "# Observe data from an API.  This is how data transports over the internet in a \"JSON\" text form\n",
    "# - The JSON \"text\" is formed in dictionary {} and list [] divisions\n",
    "# - To read the result, Data Scientist of  Developer converts JSON into human readable form\n",
    "# - Review the first line, look for the keys --  \"status\" and \"data\""
   ]
  },
  {
   "cell_type": "markdown",
   "metadata": {},
   "source": [
    "### Formatting Digital Coin example\n",
    "> JSON text transferred from the API in the previous cell was converted to a Python Dictionary called json.  The \"coins\" in the dictionary contain a list of the most relevant data.   Look at the code and comments to see how the original text is turned into something understandable.   Additionally, there are error check to make sure we are starting the code with the expectation that the API was run correctly. "
   ]
  },
  {
   "cell_type": "code",
   "execution_count": 3,
   "metadata": {},
   "outputs": [
    {
     "name": "stdout",
     "output_type": "stream",
     "text": [
      "JSON data is Python type: <class 'dict'>\n",
      "Did you insert a valid key in X-RapidAPI-Key of API cell above?\n",
      "{'message': 'You are not subscribed to this API.'}\n"
     ]
    }
   ],
   "source": [
    "\"\"\"\n",
    "This cell is dependent on valid run of API above.\n",
    "- try and except code is making sure \"json\" was properly run above\n",
    "- inside second try is code that is used to process Coin API data\n",
    "\n",
    "Note.  Run this cell repeatedly to format data without re-activating API\n",
    "\"\"\"\n",
    "\n",
    "try:\n",
    "    print(\"JSON data is Python type: \" + str(type(json)))\n",
    "    try:\n",
    "        # Extracting Coins JSON status, if the API worked\n",
    "        status = json.get('status')\n",
    "        print(\"API status: \" + status)\n",
    "        print()\n",
    "        \n",
    "        # Extracting Coins JSON data, data about the coins\n",
    "        data = json.get('data')\n",
    "        \n",
    "        # Procedural abstraction of Print code for coins\n",
    "        def print_coin(c):\n",
    "            print(c[\"symbol\"], c[\"price\"])\n",
    "            print(\"Icon Url: \" + c[\"iconUrl\"])\n",
    "            print(\"Rank Url: \" + c[\"coinrankingUrl\"])\n",
    "\n",
    "        # Coins data was observed to be a list\n",
    "        for coin in data['coins']:\n",
    "            print_coin(coin)\n",
    "            print()\n",
    "            \n",
    "    except:\n",
    "        print(\"Did you insert a valid key in X-RapidAPI-Key of API cell above?\")\n",
    "        print(json)\n",
    "except:\n",
    "    print(\"This cell is dependent on running API call in cell above!\")"
   ]
  },
  {
   "cell_type": "markdown",
   "metadata": {},
   "source": [
    "### Go deeper into APIs\n",
    "> Web Development vs Jupyter Notebook.  A notebook is certainly a great place to start.  But, for your end of Trimester project we want you to build the skill to reference and use APIs within your Project.  Here are some resources to get you started with this journey.\n",
    "\n",
    "- In the Nighthawk Coders APCSP you can find an Overview and Examples using APIs:  [APCSP APIs menu](https://nighthawkcoders.github.io/APCSP/api/overview)\n",
    "- Using Covid RapidAPI\n",
    "    - JavaScript frontend API code in APCSP Fastpages GitHub repo: [https://github.com/nighthawkcoders/APCSP/blob/master/_posts/2022-07-10-PBL-rapidapi.md](https://github.com/nighthawkcoders/APCSP/blob/master/_posts/2022-07-10-PBL-rapidapi.md)\n",
    "- Making a Jokes API (this will next API tech talk)\n",
    "    - Frontend. JavaScript frontend code in APCSP fastpages GitHub repo: [https://github.com/nighthawkcoders/APCSP/blob/master/_posts/2022-07-10-PBL-jokes.md](https://github.com/nighthawkcoders/APCSP/blob/master/_posts/2022-07-10-PBL-jokes.md)\n",
    "    - Backend Endpoints.  Python code that allows Frontend access: [https://github.com/nighthawkcoders/flask_portfolio/blob/main/api.py](https://github.com/nighthawkcoders/flask_portfolio/blob/main/api.py)\n",
    "    - Backend Jokes Management.  Python code that support Create, Read, Update, Delete (CRUD): [https://github.com/nighthawkcoders/flask_portfolio/blob/main/model_jokes.py](https://github.com/nighthawkcoders/flask_portfolio/blob/main/model_jokes.py)"
   ]
  },
  {
   "cell_type": "markdown",
   "metadata": {},
   "source": [
    "## Hacks\n",
    "> Find and use an API as part of your project.  An API and a little coding logic will be a big step toward getting meaningful data for a project.  There are many API providers, find one that might work for your project to complete this hack. When picking an API you are looking for something that will work with either JavaScript Fetch or Python Request.  Here are some samples, these are not qualified in any way.  \n",
    "- [RapidAPI](https://rapidapi.com/collection/list-of-free-apis)\n",
    "- [GitHub Project](https://github.com/public-apis/public-apis/blob/master/README.md)\n",
    "- [No Key APIs Article](https://nordicapis.com/9-free-public-apis-that-offer-up-some-cool-open-data/)\n",
    "- [Twitter Developer](https://developer.twitter.com/en/docs/twitter-api)\n",
    "- [Google Developer](https://developers.google.com/apis-explorer)\n",
    "- [Reddit Developer](https://www.reddit.com/dev/api/)\n",
    "\n",
    "> Show API and format results in either Web Page or Jupyter Notebook.  Ultimately, I will expect that we do APIs in backend (Python/Flask).  However, for this Hack you can pick your preference.  We will discuss pros and cons in next API tech talk."
   ]
  }
 ],
 "metadata": {
  "kernelspec": {
   "display_name": "Python 3.8.9 64-bit",
   "language": "python",
   "name": "python3"
  },
  "language_info": {
   "codemirror_mode": {
    "name": "ipython",
    "version": 3
   },
   "file_extension": ".py",
   "mimetype": "text/x-python",
   "name": "python",
   "nbconvert_exporter": "python",
   "pygments_lexer": "ipython3",
   "version": "3.8.9"
  },
  "orig_nbformat": 4,
  "vscode": {
   "interpreter": {
    "hash": "31f2aee4e71d21fbe5cf8b01ff0e069b9275f58929596ceb00d14d90e3e16cd6"
   }
  }
 },
 "nbformat": 4,
 "nbformat_minor": 2
}
