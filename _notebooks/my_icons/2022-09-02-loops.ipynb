{
 "cells": [
  {
   "cell_type": "markdown",
   "metadata": {},
   "source": [
    "# Loops\n",
    "- categories: [Week 2, jupyter]"
   ]
  },
  {
   "cell_type": "code",
   "execution_count": 14,
   "metadata": {},
   "outputs": [
    {
     "name": "stdout",
     "output_type": "stream",
     "text": [
      "[{'FirstName': 'Max', 'LastName': 'Wu', 'DOB': 'January 25', 'Residence': 'San Diego', 'Email': 'maxw37962@gmail.com', 'Favorite Music Artists': ['Pink Floyd', 'The Beatles', 'Jay Chou', 'ABBA']}]\n"
     ]
    }
   ],
   "source": [
    "InfoDb = []\n",
    "\n",
    "InfoDb.append({\n",
    "    \"FirstName\": \"Max\",\n",
    "    \"LastName\": \"Wu\",\n",
    "    \"DOB\": \"January 25\",\n",
    "    \"Residence\": \"San Diego\",\n",
    "    \"Email\": \"maxw37962@gmail.com\",\n",
    "    \"Favorite Music Artists\": [\"Pink Floyd\", \"The Beatles\", \"Jay Chou\", \"ABBA\"]\n",
    "})\n",
    "print(InfoDb)\n"
   ]
  },
  {
   "cell_type": "code",
   "execution_count": 15,
   "metadata": {},
   "outputs": [
    {
     "name": "stdout",
     "output_type": "stream",
     "text": [
      "name Max Wu <class 'str'>\n",
      "\n",
      "age 16 <class 'int'>\n",
      "\n",
      "score 100.0 <class 'float'>\n",
      "\n",
      "langs ['Python', 'Html', 'CSS', 'C', 'Java'] <class 'list'>\n",
      "- langs[3] Java <class 'str'>\n",
      "\n",
      "person {'name': 'Max Wu', 'age': 16, 'score': 100.0, 'langs': ['Python', 'Html', 'CSS', 'C', 'Java']} <class 'dict'> length 4\n",
      "- person[\"name\"] Max Wu <class 'str'>\n"
     ]
    }
   ],
   "source": [
    "# variable of type string\n",
    "name = \"Max Wu\"\n",
    "print(\"name\", name, type(name))\n",
    "\n",
    "print()\n",
    "\n",
    "\n",
    "# variable of type integer\n",
    "age = 16\n",
    "print(\"age\", age, type(age))\n",
    "\n",
    "print()\n",
    "\n",
    "# variable of type float\n",
    "score = 100.0\n",
    "print(\"score\", score, type(score))\n",
    "\n",
    "print()\n",
    "\n",
    "# variable of type list (many values in one variable)\n",
    "langs = [\"Python\", \"Html\", \"CSS\", \"C\", \"Java\"]\n",
    "print(\"langs\", langs, type(langs))\n",
    "print(\"- langs[3]\", langs[4], type(langs[4]))\n",
    "\n",
    "print()\n",
    "\n",
    "# variable of type dictionary (a group of keys and values)\n",
    "person = {\n",
    "    \"name\": name,\n",
    "    \"age\": age,\n",
    "    \"score\": score,\n",
    "    \"langs\": langs\n",
    "}\n",
    "print(\"person\", person, type(person), \"length\", len(person))\n",
    "print('- person[\"name\"]', person[\"name\"], type(person[\"name\"]))\n",
    "\n"
   ]
  },
  {
   "cell_type": "markdown",
   "metadata": {},
   "source": [
    "## Reverse List"
   ]
  },
  {
   "cell_type": "code",
   "execution_count": 16,
   "metadata": {},
   "outputs": [
    {
     "name": "stdout",
     "output_type": "stream",
     "text": [
      "\n",
      "Reversed List [7, 5, 3, 2]\n"
     ]
    }
   ],
   "source": [
    "# Reverse List\n",
    "\n",
    "# create a list of prime numbers\n",
    "prime_numbers = [2, 3, 5, 7]\n",
    "\n",
    "# reverse the order of list elements\n",
    "prime_numbers.reverse()\n",
    "\n",
    "print('\\nReversed List', prime_numbers)"
   ]
  },
  {
   "cell_type": "markdown",
   "metadata": {},
   "source": [
    "## Random List"
   ]
  },
  {
   "cell_type": "code",
   "execution_count": 17,
   "metadata": {},
   "outputs": [
    {
     "name": "stdout",
     "output_type": "stream",
     "text": [
      "\n",
      "Have you ever tried authentic Chinese food? Would you like me to give you a random Chinese food you can order?\n",
      "A chinese food you can order is 麻婆豆腐!\n"
     ]
    }
   ],
   "source": [
    "# Random List\n",
    "import random\n",
    "print(\"\\nHave you ever tried authentic Chinese food? Would you like me to give you a random Chinese food you can order?\")\n",
    "ChineseFood = [\"麻婆豆腐\", \"夫妻肺片\", \"回锅肉\", \"梅菜扣肉\", \"口水鸡\"]\n",
    "randomWord = random.choice(ChineseFood)\n",
    "print(\"A chinese food you can order is\", randomWord + \"!\")"
   ]
  },
  {
   "cell_type": "markdown",
   "metadata": {},
   "source": [
    "## Slicing A List"
   ]
  },
  {
   "cell_type": "code",
   "execution_count": 18,
   "metadata": {},
   "outputs": [
    {
     "name": "stdout",
     "output_type": "stream",
     "text": [
      "[5, 6, 7, 8, 9, 10]\n"
     ]
    }
   ],
   "source": [
    "list1 = [1, 2, 3, 4, 5, 6, 7, 8, 9, 10]\n",
    "elements = slice(4 ,10 ,1)\n",
    "list2 = list1[elements]\n",
    "print(list2)"
   ]
  },
  {
   "cell_type": "markdown",
   "metadata": {},
   "source": [
    "## Perform similar operation on every element of the list <br>\n",
    "If you want to perform a set of operations on every element of a list you can do that using the map() function in Python."
   ]
  },
  {
   "cell_type": "code",
   "execution_count": 19,
   "metadata": {},
   "outputs": [
    {
     "data": {
      "text/plain": [
       "[10, 20, 30, 40, 50]"
      ]
     },
     "execution_count": 19,
     "metadata": {},
     "output_type": "execute_result"
    }
   ],
   "source": [
    "mylist = [1,2,3,4,5]\n",
    "def multi(x):\n",
    "    return 10*x\n",
    "list(map(multi, mylist))"
   ]
  },
  {
   "cell_type": "markdown",
   "metadata": {},
   "source": [
    "## Merging Two Lists To Form A List <br>\n",
    "Suppose you have two lists and you want to merge the two lists to form a dictionary i.e. the elements from one list will be the keys and the elements from the other lists will be the values. Using the zip() function in python we can do that task with one line of code.\n"
   ]
  },
  {
   "cell_type": "code",
   "execution_count": 20,
   "metadata": {},
   "outputs": [
    {
     "name": "stdout",
     "output_type": "stream",
     "text": [
      "{'footballs': 100, 'bats': 40, 'gloves': 80}\n"
     ]
    }
   ],
   "source": [
    "items = [\"footballs\", \"bats\", \"gloves\"]\n",
    "price = [100, 40, 80]\n",
    "dictionary = dict(zip(items, price))\n",
    "print(dictionary)"
   ]
  },
  {
   "cell_type": "markdown",
   "metadata": {},
   "source": [
    "## List and Dictionaries"
   ]
  },
  {
   "cell_type": "code",
   "execution_count": 21,
   "metadata": {},
   "outputs": [
    {
     "name": "stdout",
     "output_type": "stream",
     "text": [
      "['Piano', 'Tennis', 'Cats']\n",
      "[{'FirstName': 'Max', 'LastName': 'Wu', 'Gender': 'Male', 'DOB': 'January 25', 'Residence': 'San Diego', 'Email': 'maxw37962@gmail.com', 'PhoneNumber': '858-568-3019', 'Age': '16', 'Hobbies': ['Ice Hockey', 'Piano', 'Listening to Music']}, {'FirstName': 'Nathan', 'LastName': 'Kim', 'Gender': 'Male', 'DOB': 'December 7', 'Residence': 'San Diego', 'Email': 'nathank51687@stu.powayusd.com', 'PhoneNumber': '470-266-9499', 'Age': '16', 'Hobbies': ['Grinding Sat']}, {'FirstName': 'Lilian', 'LastName': 'Wu', 'Gender': 'Female', 'DOB': 'January 2', 'Residence': 'San Diego', 'Email': 'lilianwu08@gmail.com', 'PhoneNumber': '858-568-3018', 'Age': '14', 'Hobbies': ['Piano', 'Tennis', 'Cats']}]\n"
     ]
    }
   ],
   "source": [
    "InfoDb = []\n",
    "\n",
    "# Append to List a 2nd Dictionary of key/values\n",
    "#added records for my gender, phone number, and age\n",
    "InfoDb.append({\n",
    "    \"FirstName\": \"Max\",\n",
    "    \"LastName\": \"Wu\",\n",
    "    \"Gender\": \"Male\",\n",
    "    \"DOB\": \"January 25\",\n",
    "    \"Residence\": \"San Diego\",\n",
    "    \"Email\": \"maxw37962@gmail.com\",\n",
    "    \"PhoneNumber\": \"858-568-3019\", \n",
    "    \"Age\": \"16\",\n",
    "    \"Hobbies\": [\"Ice Hockey\", \"Piano\", \"Listening to Music\",]\n",
    "})\n",
    "\n",
    "#my partner info in dictionary \n",
    "InfoDb.append({\n",
    "    \"FirstName\": \"Nathan\",\n",
    "    \"LastName\": \"Kim\",\n",
    "    \"Gender\": \"Male\",\n",
    "    \"DOB\": \"December 7\",\n",
    "    \"Residence\": \"San Diego\",\n",
    "    \"Email\": \"nathank51687@stu.powayusd.com\",\n",
    "    \"PhoneNumber\": \"470-266-9499\", \n",
    "    \"Age\": \"16\",\n",
    "    \"Hobbies\": [\"Grinding Sat\"]\n",
    "})\n",
    "\n",
    "\n",
    "\n",
    "####User's input added to list###\n",
    "FirstName = input(\"Enter your first name: \")\n",
    "LastName = input(\"Enter your last name: \")\n",
    "Gender = input(\"Enter your gender: \")\n",
    "DOB = input(\"Enter your birthday: \")\n",
    "Residence = input(\"Enter your city: \")\n",
    "Email = input(\"Enter your email: \")\n",
    "PhoneNumber = input(\"Enter your phone number (with dashes in between): \" )\n",
    "Age = input(\"Enter your age: \")\n",
    "\n",
    "#for loop for hobbies, because who only has one hobby ;)\n",
    "Hobbies=[]\n",
    "max_length = 3\n",
    "while len(Hobbies) < max_length: \n",
    "    userHobby = input(\"Enter a hobby you enjoy: \")\n",
    "    Hobbies.append(userHobby)\n",
    "print(Hobbies)\n",
    "\n",
    "    \n",
    "    \n",
    "InfoDb.append({\n",
    "    \"FirstName\": FirstName,\n",
    "    \"LastName\": LastName,\n",
    "    \"Gender\": Gender,\n",
    "    \"DOB\": DOB,\n",
    "    \"Residence\": Residence,\n",
    "    \"Email\": Email,\n",
    "    \"PhoneNumber\": PhoneNumber,\n",
    "    \"Age\": Age, \n",
    "    \"Hobbies\": Hobbies, \n",
    "})\n",
    "\n",
    "\n",
    "\n",
    "# Print the data structure\n",
    "print(InfoDb)"
   ]
  },
  {
   "cell_type": "markdown",
   "metadata": {},
   "source": [
    "## Formatted Output of Dictionary"
   ]
  },
  {
   "cell_type": "code",
   "execution_count": 22,
   "metadata": {},
   "outputs": [
    {
     "name": "stdout",
     "output_type": "stream",
     "text": [
      "Formatted for loop output\n",
      "\n",
      "Max Wu\n",
      "\t Gender: Male\n",
      "\t Birth Day: January 25\n",
      "\t Residence: San Diego\n",
      "\t Email: maxw37962@gmail.com\n",
      "\t Phone Number: 858-568-3019\n",
      "\t Age: 16\n",
      "\t Hobbies: Ice Hockey, Piano, Listening to Music\n",
      "\n",
      "Nathan Kim\n",
      "\t Gender: Male\n",
      "\t Birth Day: December 7\n",
      "\t Residence: San Diego\n",
      "\t Email: nathank51687@stu.powayusd.com\n",
      "\t Phone Number: 470-266-9499\n",
      "\t Age: 16\n",
      "\t Hobbies: Grinding Sat\n",
      "\n",
      "Lilian Wu\n",
      "\t Gender: Female\n",
      "\t Birth Day: January 2\n",
      "\t Residence: San Diego\n",
      "\t Email: lilianwu08@gmail.com\n",
      "\t Phone Number: 858-568-3018\n",
      "\t Age: 14\n",
      "\t Hobbies: Piano, Tennis, Cats\n",
      "\n"
     ]
    }
   ],
   "source": [
    "def print_data(d_rec):\n",
    "    print(d_rec[\"FirstName\"], d_rec[\"LastName\"])  # using comma puts space between values\n",
    "    print(\"\\t\", \"Gender:\", d_rec[\"Gender\"])\n",
    "    print(\"\\t\", \"Birth Day:\", d_rec[\"DOB\"])\n",
    "    print(\"\\t\", \"Residence:\", d_rec[\"Residence\"]) # \\t is a tab indent\n",
    "    print(\"\\t\", \"Email:\", d_rec[\"Email\"]) \n",
    "    print(\"\\t\", \"Phone Number:\", d_rec[\"PhoneNumber\"]) \n",
    "    print(\"\\t\", \"Age:\", d_rec[\"Age\"]) \n",
    "    print(\"\\t\", \"Hobbies: \", end=\"\") \n",
    "    print(\", \".join(d_rec[\"Hobbies\"]))\n",
    "    print()\n",
    "\n",
    "\n",
    "# for loop iterates on length of InfoDb\n",
    "def for_loop():\n",
    "    print(\"Formatted for loop output\\n\")\n",
    "    for record in InfoDb:\n",
    "        print_data(record)\n",
    "\n",
    "for_loop()"
   ]
  },
  {
   "cell_type": "markdown",
   "metadata": {},
   "source": [
    "## While Loop"
   ]
  },
  {
   "cell_type": "code",
   "execution_count": 23,
   "metadata": {},
   "outputs": [
    {
     "name": "stdout",
     "output_type": "stream",
     "text": [
      "While loop output\n",
      "\n",
      "Max Wu\n",
      "\t Gender: Male\n",
      "\t Birth Day: January 25\n",
      "\t Residence: San Diego\n",
      "\t Email: maxw37962@gmail.com\n",
      "\t Phone Number: 858-568-3019\n",
      "\t Age: 16\n",
      "\t Hobbies: Ice Hockey, Piano, Listening to Music\n",
      "\n",
      "Nathan Kim\n",
      "\t Gender: Male\n",
      "\t Birth Day: December 7\n",
      "\t Residence: San Diego\n",
      "\t Email: nathank51687@stu.powayusd.com\n",
      "\t Phone Number: 470-266-9499\n",
      "\t Age: 16\n",
      "\t Hobbies: Grinding Sat\n",
      "\n",
      "Lilian Wu\n",
      "\t Gender: Female\n",
      "\t Birth Day: January 2\n",
      "\t Residence: San Diego\n",
      "\t Email: lilianwu08@gmail.com\n",
      "\t Phone Number: 858-568-3018\n",
      "\t Age: 14\n",
      "\t Hobbies: Piano, Tennis, Cats\n",
      "\n"
     ]
    }
   ],
   "source": [
    "def while_loop():\n",
    "    print(\"While loop output\\n\")\n",
    "    i = 0\n",
    "    while i < len(InfoDb):\n",
    "        record = InfoDb[i]\n",
    "        print_data(record)\n",
    "        i += 1\n",
    "    return\n",
    "\n",
    "while_loop()"
   ]
  },
  {
   "cell_type": "markdown",
   "metadata": {},
   "source": [
    "## Recursion"
   ]
  },
  {
   "cell_type": "code",
   "execution_count": 24,
   "metadata": {},
   "outputs": [
    {
     "name": "stdout",
     "output_type": "stream",
     "text": [
      "Recursive loop output\n",
      "\n",
      "Max Wu\n",
      "\t Gender: Male\n",
      "\t Birth Day: January 25\n",
      "\t Residence: San Diego\n",
      "\t Email: maxw37962@gmail.com\n",
      "\t Phone Number: 858-568-3019\n",
      "\t Age: 16\n",
      "\t Hobbies: Ice Hockey, Piano, Listening to Music\n",
      "\n",
      "Nathan Kim\n",
      "\t Gender: Male\n",
      "\t Birth Day: December 7\n",
      "\t Residence: San Diego\n",
      "\t Email: nathank51687@stu.powayusd.com\n",
      "\t Phone Number: 470-266-9499\n",
      "\t Age: 16\n",
      "\t Hobbies: Grinding Sat\n",
      "\n",
      "Lilian Wu\n",
      "\t Gender: Female\n",
      "\t Birth Day: January 2\n",
      "\t Residence: San Diego\n",
      "\t Email: lilianwu08@gmail.com\n",
      "\t Phone Number: 858-568-3018\n",
      "\t Age: 14\n",
      "\t Hobbies: Piano, Tennis, Cats\n",
      "\n"
     ]
    }
   ],
   "source": [
    "def recursive_loop(i):\n",
    "    if i < len(InfoDb):\n",
    "        record = InfoDb[i]\n",
    "        print_data(record)\n",
    "        recursive_loop(i + 1)\n",
    "    return\n",
    "    \n",
    "print(\"Recursive loop output\\n\")\n",
    "recursive_loop(0)"
   ]
  },
  {
   "cell_type": "markdown",
   "metadata": {},
   "source": [
    "## Quiz Using Dictionary"
   ]
  },
  {
   "cell_type": "code",
   "execution_count": 25,
   "metadata": {},
   "outputs": [
    {
     "name": "stdout",
     "output_type": "stream",
     "text": [
      "This is a 5 question trivia quiz, good luck!\n",
      "Question: How many bones are in the human body?\n",
      "Answer: 206\n",
      "Correct Answer\n",
      "Question: What is the hardest natural substance on Earth?\n",
      "Answer: diamond\n",
      "Correct Answer\n",
      "Question: What is the most abundant gas in the Earth's atmosphere?\n",
      "Answer: nitrogen\n",
      "Correct Answer\n",
      "Question: What is the biggest planet in our solar system?\n",
      "Answer: jupiter\n",
      "Correct Answer\n",
      "Question: Which famous British physicist wrote A Brief History of Time?\n",
      "Answer: stephen hawking\n",
      "Correct Answer\n",
      "You scored 5 correct answers out of 5, nice going you trivia star!\n"
     ]
    }
   ],
   "source": [
    "from re import S\n",
    "\n",
    "\n",
    "questions = 5 #number of quiz questions\n",
    "correct = 0  \n",
    "user_input = 0\n",
    "\n",
    "\n",
    "print(\"This is a 5 question trivia quiz, good luck!\")\n",
    "\n",
    "\n",
    "def question_and_answer(prompt, answer):\n",
    "    global correct\n",
    "    print(\"Question: \" + prompt) \n",
    "    user_input = input() #takes user's input as variable msg \n",
    "    print(\"Answer: \" + user_input) \n",
    "    \n",
    "    user_input = user_input.lower() #convert user's input to lowercase\n",
    "    answer = answer.lower() # Force answer to lowercase as well\n",
    "\n",
    "    if answer == user_input: \n",
    "        print(\"Correct Answer\")\n",
    "        correct += 1 \n",
    "    else: \n",
    "        print (\"Incorrect Answer\")\n",
    "        #print (\"Answer : \" + answer)\n",
    "        #print (\"User Input is : \" + user_input)\n",
    "    return user_input \n",
    "\n",
    "question_1 = question_and_answer(\"How many bones are in the human body?\", \"206\")\n",
    "question_2 = question_and_answer(\"What is the hardest natural substance on Earth?\", \"Diamond\")\n",
    "question_3 = question_and_answer(\"What is the most abundant gas in the Earth's atmosphere?\", \"Nitrogen\")\n",
    "question_4 = question_and_answer(\"What is the biggest planet in our solar system?\", \"Jupiter\")\n",
    "question_5 = question_and_answer(\"Which famous British physicist wrote A Brief History of Time?\", \"Stephen Hawking\")\n",
    "\n",
    "if correct < 3:\n",
    "    print(f'You scored {correct} correct answers out of 5, better luck next time!')\n",
    "elif correct < 5:\n",
    "    print(f'You scored {correct} correct answers out of 5, nice try!')\n",
    "else: \n",
    "    print(f'You scored {correct} correct answers out of 5, nice going you trivia star!')"
   ]
  }
 ],
 "metadata": {
  "kernelspec": {
   "display_name": "Python 3.8.9 64-bit",
   "language": "python",
   "name": "python3"
  },
  "language_info": {
   "codemirror_mode": {
    "name": "ipython",
    "version": 3
   },
   "file_extension": ".py",
   "mimetype": "text/x-python",
   "name": "python",
   "nbconvert_exporter": "python",
   "pygments_lexer": "ipython3",
   "version": "3.8.9"
  },
  "orig_nbformat": 4,
  "vscode": {
   "interpreter": {
    "hash": "31f2aee4e71d21fbe5cf8b01ff0e069b9275f58929596ceb00d14d90e3e16cd6"
   }
  }
 },
 "nbformat": 4,
 "nbformat_minor": 2
}
