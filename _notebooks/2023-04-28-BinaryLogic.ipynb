{
 "cells": [
  {
   "attachments": {},
   "cell_type": "markdown",
   "metadata": {},
   "source": [
    "#  Binary Math & Truth Tables\n",
    "- toc: true"
   ]
  },
  {
   "attachments": {},
   "cell_type": "markdown",
   "metadata": {},
   "source": [
    "## Binary Math\n",
    "### Conversion Exercises \n",
    "\n",
    "Convert the following numbers to decimal notation:\n",
    "The binary number 111.: **7**\n",
    "The binary number 1011.: **11**\n",
    "The binary number 10111011.: **187**\n",
    "\n",
    "### BINARY MATH HACKS\n",
    "\n",
    "DIFFERENCES OF BINARY MATH NUMBERS:\n",
    "\n",
    "{% include binarymath.html %}\n",
    "\n",
    "\n",
    "### Hacks\n",
    "\n",
    "\n",
    "**Question**: How do you think we should find the difference of two binary numbers? The product? The quotient? What rules need to be followed for those operations? Look into all of this on the Internet and note down important information you find (0.45) \n",
    "\n",
    "**To find the difference of two binary numbers, we need to subtract the subtrahend (the number being subtracted) from the minuend (the number being subtracted from). To do this, we can find the 2's complement of the subtrahend and add it to the minuend. If there is a carry after the addition, we need to discard it to get the correct answer.**\n",
    "\n",
    "\n",
    "\n",
    "Based on what you find online, fill out the tables below for subtracting, multiplying, and dividing binary numbers (0.45):\n",
    "\n",
    "\n",
    "**Subtracting Binary Numbers Rules**\n",
    "\n",
    "|---------|---------|---------|---------|\n",
    "| **1-1** | **1-0** | **0-1** | **0-0** |\n",
    "|    0     |     1    |     1    |     0    |\n",
    "\n",
    "\n",
    "**Multiplying Binary Numbers Rules**\n",
    "\n",
    "\n",
    "|---------|---------|---------|---------|\n",
    "| **1x1** | **1x0** | **0x1** | **0x0** |\n",
    "|    1     |     0    |    0     |    0     |\n",
    "\n",
    "\n",
    "**Dividing Binary Numbers Rules**\n",
    "\n",
    "|---------|---------|\n",
    "| **1/1** | **0/1** |\n",
    "|     1    |    0    |        \n",
    "\n",
    "\n",
    "Choose ONE (0.9 for doing one):\n",
    "\n",
    "- Create buttons similar to the ones above that allow you to **subtract** binary numbers and returns the desired result in both binary and decimal\n",
    "\n",
    "In the above button, I was able to create a button that **subtracts** binary numbers and returns that desired result in both binary and decimal."
   ]
  },
  {
   "attachments": {},
   "cell_type": "markdown",
   "metadata": {},
   "source": [
    "## Binary Logic\n",
    "![]({{site.baseurl}}/images/binarylogic.png)"
   ]
  },
  {
   "cell_type": "code",
   "execution_count": 4,
   "metadata": {},
   "outputs": [
    {
     "name": "stdout",
     "output_type": "stream",
     "text": [
      "The mean of the data is 0.4904628425744203\n",
      "The mean of the filtered data is 0\n",
      "0 numbers meet the first criteria\n"
     ]
    }
   ],
   "source": [
    "import pandas as pd\n",
    "\n",
    "df = pd.read_csv('random_numbers_1000.csv')\n",
    "mean = df['number'].mean()\n",
    "print(f\"The mean of the data is {mean}\")\n",
    "\n",
    "\n",
    "filtered_sum = 0\n",
    "count = 0\n",
    "for num in df['number']:\n",
    "    if num % 2 != 0:\n",
    "        continue\n",
    "    elif num % 5 == 0:\n",
    "        num *= 2\n",
    "    else:\n",
    "        pass\n",
    "    filtered_sum += num \n",
    "    count += 1\n",
    "\n",
    "if count > 0:\n",
    "    filtered_mean = filtered_sum / count\n",
    "else:\n",
    "    filtered_mean = 0\n",
    "\n",
    "print(f\"The mean of the filtered data is {filtered_mean}\")\n",
    "print(f\"{count} numbers meet the first criteria\")"
   ]
  },
  {
   "attachments": {},
   "cell_type": "markdown",
   "metadata": {},
   "source": [
    "## Logic Gates\n",
    "**1.** How can logic gates be used to execute basic computer functions?\n",
    "**Logic gates are the basic building blocks of digital circuits, and they can be used to execute basic computer functions. Different combinations of logic gates can be used to create more complex circuits that can perform a wide range of functions.**\n",
    "\n",
    "**2.** 2. What is the difference between boolean operations and logic gates?\n",
    "**Boolean operations are mathematical operations on Boolean values that produce a Boolean result, while logic gates are physical or electronic devices that implement Boolean functions and are used to perform logical operations on binary inputs.**\n",
    "\n",
    "**3.** ![]({{site.baseurl}}/images/binarylogic.png)"
   ]
  },
  {
   "attachments": {},
   "cell_type": "markdown",
   "metadata": {},
   "source": [
    "## Fetching Hacks"
   ]
  },
  {
   "cell_type": "code",
   "execution_count": 5,
   "metadata": {},
   "outputs": [
    {
     "name": "stdout",
     "output_type": "stream",
     "text": [
      "[{'User ID': 101, 'Username': 'johndoe', 'Email': 'johndoe@example.com', 'Age': 25, 'Country': 'United States'}, {'User ID': 102, 'Username': 'janedoe', 'Email': 'janedoe@example.com', 'Age': 31, 'Country': 'Canada'}, {'User ID': 104, 'Username': 'sarahjane', 'Email': 'sarahjane@example.com', 'Age': 27, 'Country': 'Australia'}]\n"
     ]
    }
   ],
   "source": [
    "data = [\n",
    "    {\"User ID\": 101, \"Username\": \"johndoe\", \"Email\": \"johndoe@example.com\", \"Age\": 25, \"Country\": \"United States\"},\n",
    "    {\"User ID\": 102, \"Username\": \"janedoe\", \"Email\": \"janedoe@example.com\", \"Age\": 31, \"Country\": \"Canada\"},\n",
    "    {\"User ID\": 103, \"Username\": \"bobsmith\", \"Email\": \"bobsmith@example.com\", \"Age\": 45, \"Country\": \"United Kingdom\"},\n",
    "    {\"User ID\": 104, \"Username\": \"sarahjane\", \"Email\": \"sarahjane@example.com\", \"Age\": 27, \"Country\": \"Australia\"}\n",
    "]\n",
    "\n",
    "def filter_by_age(data, min_age, max_age):\n",
    "    filtered_data = []\n",
    "    for row in data:\n",
    "        age = row[\"Age\"]\n",
    "        if age >= min_age and age <= max_age:\n",
    "            filtered_data.append(row)\n",
    "    return filtered_data\n",
    "\n",
    "filtered_data = filter_by_age(data, 25, 35)\n",
    "print(filtered_data)"
   ]
  },
  {
   "attachments": {},
   "cell_type": "markdown",
   "metadata": {},
   "source": [
    "## Github Pages Hacks\n",
    "GitLab is a hosting service website that offers source code management and various DevOps-related features, which sets it apart from Github. GitLab has an integrated continuous integration and deployment (CI/CD) functionality that enables users to automate the building, testing, and deployment of their applications. This unique feature allows teams to enhance the quality and reliability of their software while saving time and resources."
   ]
  },
  {
   "attachments": {},
   "cell_type": "markdown",
   "metadata": {},
   "source": [
    "## API Hacks"
   ]
  },
  {
   "cell_type": "code",
   "execution_count": 6,
   "metadata": {},
   "outputs": [
    {
     "name": "stdout",
     "output_type": "stream",
     "text": [
      "     Name  Age Gender Grade\n",
      "0     Max   24      M     A\n",
      "1  Eshaan   31      M     F\n",
      "2  Nathan   42      M     F\n",
      "3  Kalani   27      M     F\n",
      "4    Evan   29      M     F\n",
      "5  Muneeb   26      M     F\n",
      "6  Jishnu   90      M     F\n",
      "7   Gavin   15      M     F\n",
      "     Name  Age Gender Grade\n",
      "1  Eshaan   31      M     F\n",
      "2  Nathan   42      M     F\n",
      "6  Jishnu   90      M     F\n",
      "Empty DataFrame\n",
      "Columns: [Name, Age, Gender, Grade]\n",
      "Index: []\n",
      "  Name  Age Gender Grade\n",
      "0  Max   24      M     A\n"
     ]
    }
   ],
   "source": [
    "import pandas as pd\n",
    "\n",
    "data = {\n",
    "    'Name': ['Max', 'Eshaan', 'Nathan', 'Kalani', 'Evan', 'Muneeb', 'Jishnu', 'Gavin'],\n",
    "    'Age': [24, 31, 42, 27, 29, 26, 90, 15],\n",
    "    'Gender': ['M', 'M', 'M', 'M', 'M', 'M', 'M', 'M'],\n",
    "    'Grade': ['A', 'F', 'F', 'F', 'F', 'F', 'F', 'F']\n",
    "}\n",
    "\n",
    "df = pd.DataFrame(data)\n",
    "print(df)\n",
    "\n",
    "# Filter by Age greater than 30\n",
    "age_filter = df[df['Age'] > 30]\n",
    "print(age_filter)\n",
    "\n",
    "# Filter by Gender is 'F'\n",
    "gender_filter = df[df['Gender'] == 'F']\n",
    "print(gender_filter)\n",
    "\n",
    "# Filter by Grade is 'A' or 'B'\n",
    "grade_filter = df[df['Grade'].isin(['A', 'B'])]\n",
    "print(grade_filter)"
   ]
  }
 ],
 "metadata": {
  "kernelspec": {
   "display_name": "base",
   "language": "python",
   "name": "python3"
  },
  "language_info": {
   "codemirror_mode": {
    "name": "ipython",
    "version": 3
   },
   "file_extension": ".py",
   "mimetype": "text/x-python",
   "name": "python",
   "nbconvert_exporter": "python",
   "pygments_lexer": "ipython3",
   "version": "3.9.12"
  },
  "orig_nbformat": 4
 },
 "nbformat": 4,
 "nbformat_minor": 2
}
