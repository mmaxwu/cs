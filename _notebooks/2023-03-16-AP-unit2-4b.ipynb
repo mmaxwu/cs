{
 "cells": [
  {
   "attachments": {},
   "cell_type": "markdown",
   "metadata": {},
   "source": [
    "#  Unit 2.4b Using Programs with Data, SQL\n",
    "> Using Programs with Data is focused on SQL and database actions.  Part B focuses on learning SQL commands, connections, and curses using an Imperative programming style,\n",
    "- toc: true\n",
    "- image: /images/python.png\n",
    "- categories: [jupyter, Week 26]"
   ]
  },
  {
   "attachments": {},
   "cell_type": "markdown",
   "metadata": {},
   "source": [
    "# Database Programming is Program with Data\n",
    "> Each Tri 2 Final Project should be an example of a Program with Data. \n",
    "\n",
    ">  Prepare to use SQLite in common Imperative Technique\n",
    "- Explore [SQLite Connect object](https://www.tutorialspoint.com/python_data_access/python_sqlite_establishing_connection.htm) to establish database connection\n",
    "- Explore [SQLite Cursor Object](https://www.tutorialspoint.com/python_data_access/python_sqlite_cursor_object.htm) to fetch data from a table within a database\n"
   ]
  },
  {
   "attachments": {},
   "cell_type": "markdown",
   "metadata": {},
   "source": [
    "## Schema of Users table in Sqlite.db\n",
    "> Uses PRAGMA statement to read schema.\n",
    "\n",
    "Describe Schema, here is resource [Resource](https://www.sqlite.org/index.html)\n",
    "- What is a database schema?\n",
    "- **A database schema dictates how data is organized, such as with tables, fields, JSON, etc.**\n",
    "- What is the purpose of identity Column in SQL database?\n",
    "- **The identity column helps identify different profiles in the database. It is unique to every profile, so it makes it able to distinguish users in the data.**\n",
    "- What is the purpose of a primary key in SQL database?\n",
    "- **The purpose of the primary key is to make the data unique. This allows each profile in the data to be distinguishable from each other.**\n",
    "- What are the Data Types in SQL table?\n",
    "- **Exact numbers, approximate numbers, date and time, character strings, unicode character strings, binary strings, etc.**"
   ]
  },
  {
   "cell_type": "code",
   "execution_count": 1,
   "metadata": {},
   "outputs": [
    {
     "name": "stdout",
     "output_type": "stream",
     "text": [
      "(0, 'id', 'INTEGER', 1, None, 1)\n",
      "(1, '_name', 'VARCHAR(255)', 1, None, 0)\n",
      "(2, '_college', 'VARCHAR(255)', 1, None, 0)\n",
      "(3, '_gpa', 'VARCHAR(255)', 1, None, 0)\n",
      "(4, '_sat', 'VARCHAR(255)', 1, None, 0)\n",
      "(5, '_act', 'VARCHAR(255)', 1, None, 0)\n",
      "(6, '_gradDate', 'DATE', 0, None, 0)\n"
     ]
    }
   ],
   "source": [
    "import sqlite3\n",
    "\n",
    "database = 'instance/sqlite.db' # this is location of database\n",
    "\n",
    "def schema():\n",
    "    \n",
    "    # Connect to the database file\n",
    "    conn = sqlite3.connect(database)\n",
    "\n",
    "    # Create a cursor object to execute SQL queries\n",
    "    cursor = conn.cursor()\n",
    "    \n",
    "    # Fetch results of Schema\n",
    "    results = cursor.execute(\"PRAGMA table_info('students')\").fetchall()\n",
    "\n",
    "    # Print the results\n",
    "    for row in results:\n",
    "        print(row)\n",
    "\n",
    "    # Close the database connection\n",
    "    conn.close()\n",
    "    \n",
    "schema()\n"
   ]
  },
  {
   "attachments": {},
   "cell_type": "markdown",
   "metadata": {},
   "source": [
    "## Reading Users table in Sqlite.db\n",
    "> Uses SQL SELECT statement to read data\n",
    "\n",
    "- What is a connection object?  After you google it, what do you think it does?\n",
    "- **A connection object represents each SQLite database. I think it is responsible for connecting to the database so it can create cursor objects and transaction control.**\n",
    "- Same for cursor object?\n",
    "- **Yes, cursor object allows the use of commands, and also fetches the data.**\n",
    "- Look at conn object and cursor object in VSCode debugger.  What attributes are in the object?\n",
    "- **conn.cursor() has attributes of special variables, function variables, class variables, in_transaction, isolation_level, row_factory, and total_changes. For the objects, all of the attributes say \"none.\"**\n",
    "- Is \"results\" an object?  How do you know?\n",
    "- **\"Results can be an object because it prints out the entire database. I know this because in the debugger is has the [()] thing with all the rows and data in it.**"
   ]
  },
  {
   "cell_type": "code",
   "execution_count": 21,
   "metadata": {},
   "outputs": [
    {
     "name": "stdout",
     "output_type": "stream",
     "text": [
      "(4, '???', 'Stanford', '4.5', '1400', '29', '2024-06-09')\n",
      "(5, 'Bobby', 'UCSD', '2.0', '1320', '25', '2025-06-10')\n",
      "(6, 'no u', 'Dartmouth', '5.0', '1600', '36', '2022-06-09')\n",
      "(7, 'hi', 'hi', 'hi', 'hi', 'hi', '2023-03-19')\n",
      "(8, 'hello', 'BYU', '3.0', '1600', '10', '06-09-2025')\n"
     ]
    }
   ],
   "source": [
    "import sqlite3\n",
    "\n",
    "def read():\n",
    "    # Connect to the database file\n",
    "    conn = sqlite3.connect(database)\n",
    "\n",
    "    # Create a cursor object to execute SQL queries\n",
    "    cursor = conn.cursor()\n",
    "    \n",
    "    # Execute a SELECT statement to retrieve data from a table\n",
    "    results = cursor.execute('SELECT * FROM students').fetchall()\n",
    "\n",
    "    # Print the results\n",
    "    if len(results) == 0:\n",
    "        print(\"Table is empty\")\n",
    "    else:\n",
    "        for row in results:\n",
    "            print(row)\n",
    "\n",
    "    # Close the cursor and connection objects\n",
    "    cursor.close()\n",
    "    conn.close()\n",
    "    \n",
    "read()\n"
   ]
  },
  {
   "attachments": {},
   "cell_type": "markdown",
   "metadata": {},
   "source": [
    "## Create a new User in table in Sqlite.db\n",
    "> Uses SQL INSERT to add row\n",
    "-  Compore create() in both SQL lessons.  What is better or worse in the two implementations?\n",
    "- **Imperative: Has less code and is easier to work with than OOP. However, it is unable to check for garbage data such as in gradDate.**\n",
    "- **OOP: Has slightly more code and is somewhat harder to work with(less functions used). However, it is able to check for garbage data.**\n",
    "-  Explain purpose of SQL INSERT.   Is this the same as User __init__?\n",
    "- **SQL INSERT inserts the profile into the table(sqlite.db) with the parameters entered. It is the same as __init__.**"
   ]
  },
  {
   "cell_type": "code",
   "execution_count": 4,
   "metadata": {},
   "outputs": [
    {
     "name": "stdout",
     "output_type": "stream",
     "text": [
      "A new user record a has been created\n"
     ]
    }
   ],
   "source": [
    "import sqlite3\n",
    "\n",
    "def create():\n",
    "\n",
    "    name = input(\"Enter your name:\")\n",
    "    \n",
    "    college = input(\"Enter your college:\")\n",
    "    \n",
    "    gpa = input(\"Enter your GPA:\")\n",
    "    \n",
    "    sat = input(\"Enter your SAT score:\")\n",
    "\n",
    "    act = input(\"Enter your ACT score:\")\n",
    "\n",
    "    gradDate = input(\"Enter your date of graduation('MM-DD-YYYY'):\")\n",
    "    \n",
    "    # Connect to the database file\n",
    "    conn = sqlite3.connect(database)\n",
    "\n",
    "    # Create a cursor object to execute SQL commands\n",
    "    cursor = conn.cursor()\n",
    "\n",
    "    try:\n",
    "        # Execute an SQL command to insert data into a table\n",
    "        cursor.execute(\"INSERT INTO students (_name, _college, _gpa, _sat, _act, _gradDate) VALUES (?, ?, ?, ?, ?, ?)\", (name, college, gpa, sat, act, gradDate))\n",
    "        \n",
    "        # Commit the changes to the database\n",
    "        conn.commit()\n",
    "        print(f\"A new user record {name} has been created\")\n",
    "                \n",
    "    except sqlite3.Error as error:\n",
    "        print(\"Error while executing the INSERT:\", error)\n",
    "\n",
    "\n",
    "    # Close the cursor and connection objects\n",
    "    cursor.close()\n",
    "    conn.close()\n",
    "    \n",
    "create()"
   ]
  },
  {
   "attachments": {},
   "cell_type": "markdown",
   "metadata": {},
   "source": [
    "## Updating a User in table in Sqlite.db\n",
    "> Uses SQL UPDATE to modify password\n",
    "- What does the hacked part do?\n",
    "- **If the new password inputted is less than 2 characters, the code detects it as a hack and a new password is automatically created for you.**\n",
    "- Explain try/except, when would except occur?\n",
    "- **Try attempts to execute the code under it. If there is an error with executing the code, except occurs and executes the below code. This is useful because you can write code that continues to run even after hitting a problem or error.**\n",
    "- What code seems to be repeated in each of these examples to point, why is it repeated?\n",
    "- **The code conn.cursor, cursor.execute, conn.commit, and cursor/conn.close is repeated. It is repeated because it constantly has to set up a cursor object and connection object. It has to be executed in order to do any actions, and must close at the end so that the code can end.**"
   ]
  },
  {
   "cell_type": "code",
   "execution_count": 8,
   "metadata": {},
   "outputs": [
    {
     "name": "stdout",
     "output_type": "stream",
     "text": [
      "Profile with name a has been updated\n"
     ]
    }
   ],
   "source": [
    "import sqlite3\n",
    "\n",
    "def update():\n",
    "    name = input(\"Enter your name:\")\n",
    "    \n",
    "    college = input(\"Enter your college:\")\n",
    "    \n",
    "    gpa = input(\"Enter your GPA:\")\n",
    "    \n",
    "    sat = input(\"Enter your SAT score:\")\n",
    "\n",
    "    act = input(\"Enter your ACT score:\")\n",
    "\n",
    "    # Connect to the database file\n",
    "    conn = sqlite3.connect(database)\n",
    "\n",
    "    # Create a cursor object to execute SQL commands\n",
    "    cursor = conn.cursor()\n",
    "\n",
    "    try:\n",
    "        # Execute an SQL command to update data in a table\n",
    "        cursor.execute(\"UPDATE students SET _college = ?, _gpa = ?, _sat = ?, _act = ? WHERE _name = ?\", (college, gpa, sat, act, name))\n",
    "        if cursor.rowcount == 0:\n",
    "            # The uid was not found in the table\n",
    "            print(f\"No name {name} was not found in the table\")\n",
    "        else:\n",
    "            conn.commit()\n",
    "            print(f\"Profile with name {name} has been updated\")\n",
    "    except sqlite3.Error as error:\n",
    "        print(\"Error while executing the UPDATE:\", error)\n",
    "        \n",
    "    \n",
    "    # Close the cursor and connection objects\n",
    "    cursor.close()\n",
    "    conn.close()\n",
    "    \n",
    "update()"
   ]
  },
  {
   "attachments": {},
   "cell_type": "markdown",
   "metadata": {},
   "source": [
    "## Delete a User in table in Sqlite.db\n",
    "> Uses a delete function to remove a user based on a user input of the id.\n",
    "- Is DELETE a dangerous operation?  Why?\n",
    "- **It is dangerous because once you delete an object, the object is gone forever.**\n",
    "- In the print statemements, what is the \"f\" and what does {uid} do?\n",
    "- **'f' makes the variables in the {var} available to use. Without 'f', {var} would not work. {uid} is the string that is fetched from the database, it displays the uid being deleted.**"
   ]
  },
  {
   "cell_type": "code",
   "execution_count": 25,
   "metadata": {},
   "outputs": [
    {
     "name": "stdout",
     "output_type": "stream",
     "text": [
      "The row with id 6 was successfully deleted\n"
     ]
    }
   ],
   "source": [
    "import sqlite3\n",
    "\n",
    "def delete():\n",
    "    id = input(\"Enter user id to delete\")\n",
    "\n",
    "    # Connect to the database file\n",
    "    conn = sqlite3.connect(database)\n",
    "\n",
    "    # Create a cursor object to execute SQL commands\n",
    "    cursor = conn.cursor()\n",
    "    \n",
    "    try:\n",
    "        cursor.execute(\"DELETE FROM students WHERE id = ?\", (id,))\n",
    "        if cursor.rowcount == 0:\n",
    "            # The uid was not found in the table\n",
    "            print(f\"No id {id} was not found in the table\")\n",
    "        else:\n",
    "            # The uid was found in the table and the row was deleted\n",
    "            print(f\"The row with id {id} was successfully deleted\")\n",
    "        conn.commit()\n",
    "    except sqlite3.Error as error:\n",
    "        print(\"Error while executing the DELETE:\", error)\n",
    "        \n",
    "    # Close the cursor and connection objects\n",
    "    cursor.close()\n",
    "    conn.close()\n",
    "    \n",
    "delete()"
   ]
  },
  {
   "attachments": {},
   "cell_type": "markdown",
   "metadata": {},
   "source": [
    "# Menu Interface to CRUD operations\n",
    "> CRUD and Schema interactions from one location by running menu. Observe input at the top of VSCode, observe output underneath code cell.\n",
    "- Why does the menu repeat?\n",
    "- **The menu repeats because the code never runs into an error.**\n",
    "- Could you refactor this menu?  Make it work with a List?\n",
    "- **Yes. it could be CRUD = [c,r,u,d]**"
   ]
  },
  {
   "cell_type": "code",
   "execution_count": 23,
   "metadata": {},
   "outputs": [
    {
     "name": "stdout",
     "output_type": "stream",
     "text": [
      "A new user record  has been created\n"
     ]
    }
   ],
   "source": [
    "# Menu, to run other cells from one control point\n",
    "def menu():\n",
    "    cruds = [\"c\",\"r\",\"u\",\"d\",\"s\"]\n",
    "    operation = input(\"Enter: (C)reate (R)ead (U)pdate or (D)elete or (S)chema\")\n",
    "    if operation.lower() == cruds[0]:\n",
    "        create()\n",
    "    elif operation.lower() == cruds[1]:\n",
    "        read()\n",
    "    elif operation.lower() == cruds[2]:\n",
    "        update()\n",
    "    elif operation.lower() == cruds[3]:\n",
    "        delete()\n",
    "    elif operation.lower() == cruds[4]:\n",
    "        schema()\n",
    "    elif len(operation)==0: # Escape Key\n",
    "        return\n",
    "    else:\n",
    "        print(\"Please enter c, r, u, or d\") \n",
    "    menu() # recursion, repeat menu\n",
    "        \n",
    "try:\n",
    "    menu() # start menu\n",
    "except:\n",
    "    print(\"Perform Jupyter 'Run All' prior to starting menu\")\n"
   ]
  },
  {
   "attachments": {},
   "cell_type": "markdown",
   "metadata": {},
   "source": [
    "# Hacks\n",
    "- Add this Blog to you own Blogging site.  In the Blog add notes and observations on each code cell.\n",
    "- In this implementation, do you see procedural abstraction?\n",
    "- **Yes. In menu, the function is called for CRUDS. Functions of connect, cursor, etc. are also being called.**\n",
    "- In 2.4a or 2.4b lecture\n",
    "    - Do you see data abstraction?  Complement this with Debugging example.\n",
    "    - **Yes. SQLite database is used. dictionaries are used. They are defined with parameters in init and are shown in columns.**\n",
    "    - Use Imperative or OOP style to Create a new Table **or** do something that applies to your CPT project.\n",
    "    \n",
    "\n",
    "Reference... [sqlite documentation](https://www.sqlitetutorial.net/sqlite-python/creating-tables/)\n"
   ]
  },
  {
   "attachments": {},
   "cell_type": "markdown",
   "metadata": {},
   "source": [
    "# Debugging\n",
    "\n",
    "![](https://github.com/A1234l/VSCode-Fastpages/blob/master/images/debug1.png?raw=true)\n",
    "\n",
    "![](https://github.com/A1234l/VSCode-Fastpages/blob/master/images/debug2.png?raw=true)\n",
    "\n",
    "![](https://github.com/A1234l/VSCode-Fastpages/blob/master/images/debug3.png?raw=true)\n",
    "\n",
    "![](https://github.com/A1234l/VSCode-Fastpages/blob/master/images/debug4.png?raw=true)"
   ]
  }
 ],
 "metadata": {
  "kernelspec": {
   "display_name": "base",
   "language": "python",
   "name": "python3"
  },
  "language_info": {
   "codemirror_mode": {
    "name": "ipython",
    "version": 3
   },
   "file_extension": ".py",
   "mimetype": "text/x-python",
   "name": "python",
   "nbconvert_exporter": "python",
   "pygments_lexer": "ipython3",
   "version": "3.9.12"
  },
  "orig_nbformat": 4,
  "vscode": {
   "interpreter": {
    "hash": "8b82d5009c68ba5675978267e2b13a671f2a7143d61273c5a3813c97e0b2493d"
   }
  }
 },
 "nbformat": 4,
 "nbformat_minor": 2
}
