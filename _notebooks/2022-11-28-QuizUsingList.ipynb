{
 "cells": [
  {
   "cell_type": "markdown",
   "metadata": {},
   "source": [
    "# Quiz using list\n",
    "- title: Quiz using list\n",
    "- toc: true\n",
    "- comments: true\n",
    "- categories: [Week 14, jupyter] "
   ]
  },
  {
   "cell_type": "markdown",
   "metadata": {},
   "source": [
    "## Simple Quiz using just if statements"
   ]
  },
  {
   "cell_type": "code",
   "execution_count": 16,
   "metadata": {},
   "outputs": [
    {
     "name": "stdout",
     "output_type": "stream",
     "text": [
      "Welcome to my simple quiz\n",
      "oxygen is correct!\n",
      "mercury is correct!\n",
      "mercury is correct!\n",
      " Well done, you scored 3/3\n"
     ]
    }
   ],
   "source": [
    "QandA = [\n",
    "    \"1. What is the most common element on Earth?\" , \"oxygen\" , \n",
    "    \"2. What is the planet closest to our Sun?\" , \"mercury\" , \n",
    "    \"3. What is the smallest planet in our solar system?\" , \"mercury\"\n",
    "]\n",
    "\n",
    "points = 0\n",
    "current = 0\n",
    "questions = 3\n",
    "\n",
    "print (\"Welcome to my simple quiz\")\n",
    "\n",
    "question1 = input (QandA[current])\n",
    "\n",
    "if question1 == QandA[current + 1]:\n",
    "    print (question1 + \" is correct!\")\n",
    "    current = current + 2\n",
    "    points += 1\n",
    "else:\n",
    "    print(question1 + \" is incorrect :(\")\n",
    "    current = current + 2\n",
    "\n",
    "question2 = input (QandA[current])\n",
    "\n",
    "if question2 == QandA[current + 1]:\n",
    "    print (question2 + \" is correct!\")\n",
    "    current = current + 2\n",
    "    points += 1\n",
    "else:\n",
    "    print(question2 + \" is incorrect :(\")\n",
    "    current = current + 2\n",
    "    \n",
    "question3 = input (QandA[current])\n",
    "\n",
    "if question3 == QandA[current + 1]:\n",
    "    print (question3 + \" is correct!\")\n",
    "    current = current + 2\n",
    "    points += 1\n",
    "else:\n",
    "    print(question3 + \" is incorrect :(\")\n",
    "    current = current + 2\n",
    "\n",
    "print(\" Well done, you scored \" + str(points) +\"/\" + str(questions))\n",
    "    "
   ]
  },
  {
   "cell_type": "markdown",
   "metadata": {},
   "source": [
    "## Quiz using loops"
   ]
  },
  {
   "cell_type": "code",
   "execution_count": 22,
   "metadata": {},
   "outputs": [
    {
     "name": "stdout",
     "output_type": "stream",
     "text": [
      "Welcome to my simple quiz\n",
      "oxygen is correct!\n",
      "mercury is correct!\n",
      "mercury is correct!\n",
      " Well done, you scored 3/3\n"
     ]
    }
   ],
   "source": [
    "QandA = [\n",
    "    \"1. What is the most common element on Earth?\" , \"oxygen\" , \n",
    "    \"2. What is the planet closest to our Sun?\" , \"mercury\" , \n",
    "    \"3. What is the smallest planet in our solar system?\" , \"mercury\"\n",
    "]\n",
    "\n",
    "points = 0\n",
    "current = 0\n",
    "questions = 1\n",
    "\n",
    "print (\"Welcome to my simple quiz\")\n",
    "\n",
    "while questions < 4:\n",
    "\n",
    "    question = input (QandA[current])\n",
    "\n",
    "    if question == QandA[current + 1]:\n",
    "        print (question + \" is correct!\")\n",
    "        current = current + 2\n",
    "        points += 1\n",
    "    else:\n",
    "        print(question + \" is incorrect :(\")\n",
    "        current = current + 2\n",
    "    questions = questions + 1\n",
    "\n",
    "\n",
    "print(\" Well done, you scored \" + str(points) +\"/\" + str(questions-1))\n",
    "    "
   ]
  }
 ],
 "metadata": {
  "kernelspec": {
   "display_name": "Python 3.8.9 64-bit",
   "language": "python",
   "name": "python3"
  },
  "language_info": {
   "codemirror_mode": {
    "name": "ipython",
    "version": 3
   },
   "file_extension": ".py",
   "mimetype": "text/x-python",
   "name": "python",
   "nbconvert_exporter": "python",
   "pygments_lexer": "ipython3",
   "version": "3.8.9"
  },
  "orig_nbformat": 4,
  "vscode": {
   "interpreter": {
    "hash": "31f2aee4e71d21fbe5cf8b01ff0e069b9275f58929596ceb00d14d90e3e16cd6"
   }
  }
 },
 "nbformat": 4,
 "nbformat_minor": 2
}
