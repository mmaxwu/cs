{
 "cells": [
  {
   "cell_type": "markdown",
   "metadata": {},
   "source": [
    "# Javascript Table\n",
    "- categories: [Week 5, jupyter]"
   ]
  },
  {
   "cell_type": "code",
   "execution_count": 5,
   "metadata": {},
   "outputs": [
    {
     "data": {
      "text/html": [
       "<div style='display:inline-block;border: 2px solid grey;box-shadow: 0.8em 0.4em 0.4em grey;'><table><tr><th><mark>Name</mark></th><th><mark>GitHub</mark></th><th><mark>Fastpages</mark></th></tr><tr><td>Max<td>Max's Github: https://github.com/mmaxwu/cs</td><td>Max's Fastpages: https://mmaxwu.github.io/cs/</td><tr><tr><td>Nathan<td>Nathan's Github: </td><td>Nathan's Fastpages: </td><tr><tr><td>Sri<td>Sri's Github: </td><td>Sri's Fastpages: </td><tr><tr><td>Alyssa<td>Alyssa's Github: </td><td>Alyssa's Fastpages: </td><tr></table></div>"
      ]
     },
     "execution_count": 5,
     "metadata": {},
     "output_type": "execute_result"
    }
   ],
   "source": [
    "//Define data\n",
    "function Data(name, github, fastpages) {\n",
    "    this.name = name;\n",
    "    this.git = github;\n",
    "    this.fastpages = fastpages;\n",
    "}\n",
    "\n",
    "Data.prototype.setRole = function(role) {\n",
    "    this.role = role;\n",
    "}\n",
    "Data.prototype.toJSON = function() {\n",
    "    const obj = {name: this.name, github: this.github, fastpages: this.fastpages};\n",
    "    const json = JSON.stringify(obj);\n",
    "    return json;\n",
    "}\n",
    "\n",
    "//Make new data and put in a list\n",
    "var Max = new Data(\"Max\", \"https://github.com/mmaxwu/cs\", \"https://mmaxwu.github.io/cs/\");\n",
    "var Nathan = new Data(\"Nathan\", \"https://github.com/nsk1207/fastpages_nathan\", \"https://nsk1207.github.io/fastpages_nathan/\");\n",
    "var Sri = new Data(\"Sri\", \"https://github.com/SRIHITAKOTT1213/APCSP-Blog-Assignment\", \"https://srihitakott1213.github.io/APCSP-Blog-Assignment/\")\n",
    "var Alyssa = new Data(\"Alyssa\", \"https://github.com/alyssar60819/fastpages-blog\", \"\")\n",
    "allData = [Max, Nathan, Sri, Alyssa];\n",
    "\n",
    "//Make a object to hold the data\n",
    "function DataHolder(allData) {\n",
    "    this.allData = allData;\n",
    "}\n",
    "\n",
    "//Use object to hold data\n",
    "dataHolder = new DataHolder(allData);\n",
    "\n",
    "\n",
    "\n",
    "//HTML conversion method\n",
    "DataHolder.prototype._toHtml = function() {\n",
    "    var style = (\n",
    "      \"display:inline-block;\" +\n",
    "      \"border: 2px solid grey;\" +\n",
    "      \"box-shadow: 0.8em 0.4em 0.4em grey;\"\n",
    "    );\n",
    "  \n",
    "    var table = \"\";\n",
    "    table += \"<tr>\";\n",
    "    table += \"<th><mark>\" + \"Name\" + \"</mark></th>\";\n",
    "    table += \"<th><mark>\" + \"GitHub\" + \"</mark></th>\";\n",
    "    table += \"<th><mark>\" + \"Fastpages\" + \"</mark></th>\";\n",
    "    table += \"</tr>\";\n",
    "\n",
    "    //Go through all data and each data's properties in a table format\n",
    "    for (var row of allData) {\n",
    "        table += \"<tr>\";\n",
    "        table += \"<td>\" + row.name;\n",
    "        table += \"<td>\" + row.name + \"'s Github: \" + row.git + \"</td>\";\n",
    "        table += \"<td>\" + row.name + \"'s Fastpages: \" + row.fastpages + \"</td>\";\n",
    "        table += \"<tr>\"\n",
    "    }\n",
    "     //Return table\n",
    "    return (\n",
    "      \"<div style='\" + style + \"'>\" +\n",
    "        \"<table>\" +\n",
    "            table +\n",
    "        \"</table>\" +\n",
    "      \"</div>\"\n",
    "    );\n",
    "  };\n",
    "  \n",
    "  // IJavaScript HTML processor receive parameter of defined HTML fragment\n",
    "  $$.html(dataHolder._toHtml());"
   ]
  }
 ],
 "metadata": {
  "kernelspec": {
   "display_name": "JavaScript (Node.js)",
   "language": "javascript",
   "name": "javascript"
  },
  "language_info": {
   "file_extension": ".js",
   "mimetype": "application/javascript",
   "name": "javascript",
   "version": "10.13.0"
  },
  "orig_nbformat": 4,
  "vscode": {
   "interpreter": {
    "hash": "31f2aee4e71d21fbe5cf8b01ff0e069b9275f58929596ceb00d14d90e3e16cd6"
   }
  }
 },
 "nbformat": 4,
 "nbformat_minor": 2
}
