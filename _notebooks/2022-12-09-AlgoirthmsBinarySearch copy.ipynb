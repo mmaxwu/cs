{
 "cells": [
  {
   "cell_type": "markdown",
   "metadata": {},
   "source": [
    "# Algorithms and Binary Search\n",
    "- title: Algorithms and Binary Search HW\n",
    "- toc: true\n",
    "- comments: true\n",
    "- categories: [Week 15, jupyter] "
   ]
  },
  {
   "cell_type": "markdown",
   "metadata": {},
   "source": [
    "## Flowchart:\n",
    "[Flowchart Link](https://docs.google.com/drawings/d/1IqgNfNhL6xuPdjs2FOOKQT0wtcdfwD4GUzLla77tcBM/edit?usp=sharing)\n",
    "\n"
   ]
  },
  {
   "cell_type": "code",
   "execution_count": 1,
   "metadata": {},
   "outputs": [
    {
     "name": "stdout",
     "output_type": "stream",
     "text": [
      "Your total score is: 16\n"
     ]
    }
   ],
   "source": [
    "import random\n",
    "\n",
    "# Initialize the player's total score to 0\n",
    "total_score = 0\n",
    "\n",
    "# Generate three random numbers\n",
    "num1, num2, num3 = random.sample(range(1, 20), 3)\n",
    "\n",
    "# Create a list with the three numbers\n",
    "num_list = [num1, num2, num3]\n",
    "\n",
    "# Find the maximum value in the list\n",
    "max_value = max(num_list)\n",
    "\n",
    "# Add the maximum value to the player's total score\n",
    "total_score += max_value\n",
    "\n",
    "# Print the player's updated total score\n",
    "print(\"Your total score is: \" + str(total_score))"
   ]
  },
  {
   "cell_type": "markdown",
   "metadata": {},
   "source": [
    "The code generates three random numbers from 1 to 20, creates a list with the numbers, finds the maximum value in the list, and then adds the maximum value to the player's total score. It then prints the player's updated total score."
   ]
  },
  {
   "cell_type": "markdown",
   "metadata": {},
   "source": [
    "## Binary Search Hacks"
   ]
  },
  {
   "cell_type": "code",
   "execution_count": 2,
   "metadata": {},
   "outputs": [
    {
     "name": "stdout",
     "output_type": "stream",
     "text": [
      "Found at position: 10\n"
     ]
    }
   ],
   "source": [
    "def binary_search(arr, x):\n",
    "    # Initialize the start and end indices of the array\n",
    "    start = 0\n",
    "    end = len(arr) - 1\n",
    "\n",
    "    # Iterate until the start and end indices overlap\n",
    "    while start <= end:\n",
    "        \n",
    "        # Calculate the middle index of the array\n",
    "        mid = (start + end) // 2\n",
    "\n",
    "        # Compare x with the middle element\n",
    "        if arr[mid] == x:\n",
    "            # Return the middle index if x matches the middle element\n",
    "            return mid\n",
    "\n",
    "        elif x > arr[mid]:\n",
    "            # Update the start index to search the right half of the array\n",
    "            start = mid + 1\n",
    "\n",
    "        else:\n",
    "            # Update the end index to search the left half of the array\n",
    "            end = mid - 1\n",
    "\n",
    "    # If x is not found in the array, return -1\n",
    "    return -1\n",
    "\n",
    "arr = [1, 2, 3, 4, 5, 6, 7, 8, 9, 10, 11]\n",
    "x = 11\n",
    "\n",
    "result = binary_search(arr, x)\n",
    "\n",
    "if result != -1:\n",
    "    print(\"Found at position: \" + str(result))\n",
    "else:\n",
    "    print(\"Not in the array!\")\n"
   ]
  },
  {
   "cell_type": "markdown",
   "metadata": {},
   "source": [
    "In the code above, the binary_search() function takes two arguments: arr, the array to search, and x, the target element we are looking for. The function returns the index of x in the array if it is found, or -1 if it is not found. The code also includes a test that searches for the value 11 in the array [1, 2, 3, 4, 5, 6, 7, 8, 9, 10, 11]. The test prints the index of 11 if it is found, or a message if it is not found."
   ]
  },
  {
   "cell_type": "markdown",
   "metadata": {},
   "source": [
    "## Collatz Conjecture Hacks"
   ]
  },
  {
   "cell_type": "code",
   "execution_count": 3,
   "metadata": {},
   "outputs": [
    {
     "name": "stdout",
     "output_type": "stream",
     "text": [
      "5\n"
     ]
    }
   ],
   "source": [
    "# Input positive integer n\n",
    "n = 5\n",
    "\n",
    "# Initialize counter for the number of steps\n",
    "steps = 0\n",
    "\n",
    "# Iterate until n is 1\n",
    "while n != 1:\n",
    "\n",
    "    # If n is even, divide it by 2\n",
    "    if n % 2 == 0:\n",
    "        n = n // 2\n",
    "        \n",
    "    # If n is odd, multiply it by 3 and add 1\n",
    "    else:\n",
    "        n = 3 * n + 1\n",
    "\n",
    "    # Increment the step counter\n",
    "    steps += 1\n",
    "\n",
    "# Print the number of steps required to reach 1\n",
    "print(steps)\n"
   ]
  },
  {
   "cell_type": "markdown",
   "metadata": {},
   "source": [
    "In the code above, the while loop continues until n becomes 1. The if statement checks if n is even or odd, and performs the appropriate calculation to update n according to the Collatz conjecture. The steps counter is incremented after each calculation. When the loop ends, the final value of steps is printed, which represents the number of steps required to reach 1.\n",
    "\n",
    "For the input n = 5, the code would output 6, because it takes 6 steps to reach 1 using the Collatz conjecture starting from n = 5."
   ]
  }
 ],
 "metadata": {
  "kernelspec": {
   "display_name": "Python 3.8.9 64-bit",
   "language": "python",
   "name": "python3"
  },
  "language_info": {
   "codemirror_mode": {
    "name": "ipython",
    "version": 3
   },
   "file_extension": ".py",
   "mimetype": "text/x-python",
   "name": "python",
   "nbconvert_exporter": "python",
   "pygments_lexer": "ipython3",
   "version": "3.8.9"
  },
  "orig_nbformat": 4,
  "vscode": {
   "interpreter": {
    "hash": "31f2aee4e71d21fbe5cf8b01ff0e069b9275f58929596ceb00d14d90e3e16cd6"
   }
  }
 },
 "nbformat": 4,
 "nbformat_minor": 2
}
