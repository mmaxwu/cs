{
 "cells": [
  {
   "cell_type": "markdown",
   "metadata": {},
   "source": [
    "# Sorting Algorithms"
   ]
  },
  {
   "cell_type": "markdown",
   "metadata": {},
   "source": [
    "## Bubble Sort"
   ]
  },
  {
   "cell_type": "code",
   "execution_count": 3,
   "metadata": {},
   "outputs": [
    {
     "name": "stdout",
     "output_type": "stream",
     "text": [
      "[11, 12, 22, 25, 34, 64, 90]\n"
     ]
    }
   ],
   "source": [
    "def bubble_sort(list):\n",
    "    index_length = len(list)\n",
    "    swapped = False #create variable of swapped and set it to false\n",
    "    \n",
    "    for i in range(index_length-1): #number of iterations\n",
    "        for j in range(0, index_length-1): #for every value between the first value and second to last value\n",
    "            if list[j] > list[j+1]:\n",
    "                swapped = True #values are swapped\n",
    "                list[j], list[j+1] = list[j+1], list[j] #switch positions\n",
    "    return list\n",
    "\n",
    "\n",
    "list = [64, 34, 25, 12, 22, 11, 90]\n",
    "bubble_sort(list)\n",
    "print(list)"
   ]
  },
  {
   "cell_type": "markdown",
   "metadata": {},
   "source": [
    "## Selection Sort"
   ]
  },
  {
   "cell_type": "code",
   "execution_count": 4,
   "metadata": {},
   "outputs": [
    {
     "name": "stdout",
     "output_type": "stream",
     "text": [
      "[11, 12, 22, 25, 34, 64, 90]\n"
     ]
    }
   ],
   "source": [
    "def selection_sort(list):\n",
    "    indexing_length = len(list)\n",
    "    \n",
    "    \n",
    "    for i in range(indexing_length - 1): #the number of iterations\n",
    "        minpos = i #whatever before i is sorted, whatever after i is unsorted; i is the min position\n",
    "        \n",
    "        for j in range(i, indexing_length): #for every value between i and the last value\n",
    "             if list[j] < list[minpos]: \n",
    "                minpos = j #set j as the new minpos if j is less than i\n",
    "\n",
    "        list[minpos], list[i] = list[i], list[minpos] #switch positions\n",
    "        \n",
    "    return list\n",
    "\n",
    "\n",
    "list = [64, 34, 25, 12, 22, 11, 90]\n",
    "selection_sort(list)\n",
    "print(list)"
   ]
  }
 ],
 "metadata": {
  "kernelspec": {
   "display_name": "Python 3.8.9 64-bit",
   "language": "python",
   "name": "python3"
  },
  "language_info": {
   "codemirror_mode": {
    "name": "ipython",
    "version": 3
   },
   "file_extension": ".py",
   "mimetype": "text/x-python",
   "name": "python",
   "nbconvert_exporter": "python",
   "pygments_lexer": "ipython3",
   "version": "3.8.9"
  },
  "orig_nbformat": 4,
  "vscode": {
   "interpreter": {
    "hash": "31f2aee4e71d21fbe5cf8b01ff0e069b9275f58929596ceb00d14d90e3e16cd6"
   }
  }
 },
 "nbformat": 4,
 "nbformat_minor": 2
}
