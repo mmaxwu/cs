{
 "cells": [
  {
   "cell_type": "markdown",
   "metadata": {},
   "source": [
    "# My CSP Journey\n",
    "- categories: [Week 4, jupyter]"
   ]
  },
  {
   "cell_type": "markdown",
   "metadata": {},
   "source": [
    "## CS Before CSP"
   ]
  },
  {
   "cell_type": "markdown",
   "metadata": {},
   "source": [
    "Hi my name is Max. This is my page to document my journey through CSP. My computer science journey truly started in 8th grade. There were many electives to choose going into the 8th grade, I ended up choosing computer science because that was the class that all of my friends were planning on taking. Having no previous experience in computer science, I naturally struggled throughout the year. But with pain often comes joy. I remember creating my first website using html, spending hours trying to improve every little detail to make my website more appealing. Submitting the website was one of the happiest moments of my life. That feeling of accomplishment is what motivated me to enroll in this class. Having never touched a line of code in three years, it is not surprising to say that I am really rusty.  "
   ]
  },
  {
   "cell_type": "markdown",
   "metadata": {},
   "source": [
    "# Iterations"
   ]
  },
  {
   "cell_type": "markdown",
   "metadata": {},
   "source": [
    "The first thing I learned in Mr. Mortensen's CSP class is iterations or loops. Iteration is a sequence of instructions that is continually repeated. With iteration, I made a cool little quiz. "
   ]
  },
  {
   "cell_type": "code",
   "execution_count": 1,
   "metadata": {},
   "outputs": [
    {
     "name": "stdout",
     "output_type": "stream",
     "text": [
      "Hello, you will be taking the vocabulary test.\n",
      "Do you wish to proceed?(y/n)\n",
      "You may now proceed\n",
      "Question: Does static text change? (yes/no)\n",
      "n is wrong :(\n",
      "Question: At least how many lines are required to form a sequence of code?(1-4)\n",
      "2 is correct!\n",
      "Question: Is Input and Output in jupyter notebooks in line with Output?(yes/no)\n",
      "no is correct!!\n",
      "Question: Is the computer mice an input?(yes/no)\n",
      "yes is correct!!\n",
      "Question: What is a number with a decimal in it called?\n",
      "float is correct!!\n",
      "Question: What is a set of instructions that a computer follows in order to complete a task called?\n",
      "code is incorrect!\n",
      " you scored 4/6\n"
     ]
    }
   ],
   "source": [
    "def q_and_a(prompt):\n",
    "    print(\"Question: \" + prompt)\n",
    "    msg = input()\n",
    "    return msg\n",
    "    \n",
    "questions = 6\n",
    "correct = 0\n",
    "\n",
    "print(\"Hello, you will be taking the vocabulary test.\")\n",
    "print(\"Do you wish to proceed?(y/n)\")\n",
    "\n",
    "msg = input()\n",
    "\n",
    "while (msg!=\"y\") :  \n",
    "    print(\"ERROR, YOU HAVE TO SAY YES, DON'T HAVE A CHOICE\")\n",
    "    msg = input()\n",
    "  \n",
    "print(\"You may now proceed\")\n",
    "      \n",
    "rsp = q_and_a(\"Does static text change? (yes/no)\")\n",
    "if rsp == \"no\":\n",
    "    print(rsp +\" is correct\")\n",
    "    correct += 1\n",
    "else:\n",
    "    print(rsp +\" is wrong :(\")\n",
    "    \n",
    "rsp = q_and_a(\"At least how many lines are required to form a sequence of code?(1-4)\")\n",
    "if rsp == \"2\":\n",
    "    print(rsp + \" is correct!\")\n",
    "    correct += 1\n",
    "else:\n",
    "    print(rsp + \" is incorrect!\")\n",
    "\n",
    "rsp = q_and_a(\"Is Input and Output in jupyter notebooks in line with Output?(yes/no)\")\n",
    "if rsp == \"no\":\n",
    "    print(rsp + \" is correct!!\")\n",
    "    correct += 1\n",
    "else:\n",
    "    print(rsp + \" is incorrect!\")\n",
    "\n",
    "rsp = q_and_a(\"Is the computer mice an input?(yes/no)\")\n",
    "if rsp == \"yes\":\n",
    "    print(rsp + \" is correct!!\")\n",
    "    correct += 1\n",
    "else:\n",
    "    print(rsp + \" is incorrect!\")\n",
    "    \n",
    "rsp = q_and_a(\"What is a number with a decimal in it called?\")\n",
    "if rsp == \"float\":\n",
    "    print(rsp + \" is correct!!\")\n",
    "    correct += 1\n",
    "else:\n",
    "    print(rsp + \" is incorrect!\")\n",
    "    \n",
    "rsp = q_and_a(\"What is a set of instructions that a computer follows in order to complete a task called?\")\n",
    "if rsp == \"program\":\n",
    "    print(rsp + \" is correct!!\")\n",
    "    correct += 1\n",
    "else:\n",
    "    print(rsp + \" is incorrect!\")\n",
    "\n",
    "print(\" you scored \" + str(correct) +\"/\" + str(questions))"
   ]
  },
  {
   "cell_type": "markdown",
   "metadata": {},
   "source": [
    "## Sorting Algorithms"
   ]
  },
  {
   "cell_type": "markdown",
   "metadata": {},
   "source": [
    "We haven't learned this yet, but I wanted to challenge myself with a mini project so I decided to write some algorithms for the different sorting methods. "
   ]
  },
  {
   "cell_type": "markdown",
   "metadata": {},
   "source": [
    "### Bubble Sort"
   ]
  },
  {
   "cell_type": "code",
   "execution_count": 2,
   "metadata": {},
   "outputs": [
    {
     "name": "stdout",
     "output_type": "stream",
     "text": [
      "[11, 12, 22, 25, 34, 64, 90]\n"
     ]
    }
   ],
   "source": [
    "def bubble_sort(list):\n",
    "    index_length = len(list)\n",
    "    swapped = False #create variable of swapped and set it to false\n",
    "    \n",
    "    for i in range(index_length-1): #number of iterations\n",
    "        for j in range(0, index_length-1): #for every value between the first value and second to last value\n",
    "            if list[j] > list[j+1]:\n",
    "                swapped = True #values are swapped\n",
    "                list[j], list[j+1] = list[j+1], list[j] #switch positions\n",
    "    return list\n",
    "\n",
    "\n",
    "list = [64, 34, 25, 12, 22, 11, 90]\n",
    "bubble_sort(list)\n",
    "print(list)"
   ]
  },
  {
   "cell_type": "markdown",
   "metadata": {},
   "source": [
    "### Selection Sort"
   ]
  },
  {
   "cell_type": "code",
   "execution_count": 3,
   "metadata": {},
   "outputs": [
    {
     "name": "stdout",
     "output_type": "stream",
     "text": [
      "[11, 12, 22, 25, 34, 64, 90]\n"
     ]
    }
   ],
   "source": [
    "def selection_sort(list):\n",
    "    indexing_length = len(list)\n",
    "    \n",
    "    \n",
    "    for i in range(indexing_length - 1): #the number of iterations\n",
    "        minpos = i #whatever before i is sorted, whatever after i is unsorted; i is the min position\n",
    "        \n",
    "        for j in range(i, indexing_length): #for every value between i and the last value\n",
    "             if list[j] < list[minpos]: \n",
    "                minpos = j #set j as the new minpos if j is less than i\n",
    "\n",
    "        list[minpos], list[i] = list[i], list[minpos] #switch positions\n",
    "        \n",
    "    return list\n",
    "\n",
    "\n",
    "list = [64, 34, 25, 12, 22, 11, 90]\n",
    "selection_sort(list)\n",
    "print(list)"
   ]
  }
 ],
 "metadata": {
  "kernelspec": {
   "display_name": "Python 3.8.9 64-bit",
   "language": "python",
   "name": "python3"
  },
  "language_info": {
   "codemirror_mode": {
    "name": "ipython",
    "version": 3
   },
   "file_extension": ".py",
   "mimetype": "text/x-python",
   "name": "python",
   "nbconvert_exporter": "python",
   "pygments_lexer": "ipython3",
   "version": "3.8.9"
  },
  "orig_nbformat": 4,
  "vscode": {
   "interpreter": {
    "hash": "31f2aee4e71d21fbe5cf8b01ff0e069b9275f58929596ceb00d14d90e3e16cd6"
   }
  }
 },
 "nbformat": 4,
 "nbformat_minor": 2
}
