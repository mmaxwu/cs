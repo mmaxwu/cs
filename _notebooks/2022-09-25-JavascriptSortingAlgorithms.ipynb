{
 "cells": [
  {
   "cell_type": "markdown",
   "metadata": {},
   "source": [
    "# Sorting Algorithms Using Java Script\n",
    "- categories: [Week 5, jupyter]"
   ]
  },
  {
   "cell_type": "markdown",
   "metadata": {},
   "source": [
    "## Bubble Sort"
   ]
  },
  {
   "cell_type": "code",
   "execution_count": 5,
   "metadata": {},
   "outputs": [
    {
     "name": "stdout",
     "output_type": "stream",
     "text": [
      "[ 3, 4, 5, 6, 8 ]\n"
     ]
    }
   ],
   "source": [
    "function bubbleSort(arr){\n",
    "\n",
    "    //Outer pass\n",
    "    for(let i = 0; i < arr.length; i++){\n",
    "\n",
    "        //Inner pass\n",
    "        for(let j = 0; j < arr.length - i - 1; j++){\n",
    "\n",
    "            //Value comparison using ascending order\n",
    "\n",
    "            if(arr[j + 1] < arr[j]){\n",
    "\n",
    "                //Swapping\n",
    "                [arr[j + 1],arr[j]] = [arr[j],arr[j + 1]]\n",
    "            }\n",
    "        }\n",
    "    };\n",
    "    return arr;\n",
    "};\n",
    "\n",
    "console.log(bubbleSort([5,3,8,4,6]));"
   ]
  },
  {
   "cell_type": "markdown",
   "metadata": {},
   "source": [
    "## Insertion Sort"
   ]
  },
  {
   "cell_type": "code",
   "execution_count": 6,
   "metadata": {},
   "outputs": [
    {
     "name": "stdout",
     "output_type": "stream",
     "text": [
      "[ 1, 2, 5, 10, 23 ]\n"
     ]
    }
   ],
   "source": [
    "function insertionSort(arr){\n",
    "    //Start from the second element.\n",
    "    for(let i = 1; i < arr.length;i++){\n",
    "\n",
    "        //Go through the elements behind it.\n",
    "        for(let j = i - 1; j > -1; j--){\n",
    "            \n",
    "            //value comparison using ascending order.\n",
    "            if(arr[j + 1] < arr[j]){\n",
    "\n",
    "                //swap\n",
    "                [arr[j+1],arr[j]] = [arr[j],arr[j + 1]];\n",
    "\n",
    "            }\n",
    "        }\n",
    "    };\n",
    "\n",
    "  return arr;\n",
    "}\n",
    "\n",
    "console.log(insertionSort([23, 1, 10, 5, 2]));"
   ]
  },
  {
   "cell_type": "markdown",
   "metadata": {},
   "source": [
    "## Selection Sort"
   ]
  },
  {
   "cell_type": "code",
   "execution_count": 7,
   "metadata": {},
   "outputs": [
    {
     "name": "stdout",
     "output_type": "stream",
     "text": [
      "[ 13, 29, 36, 51, 52, 66, 72, 87, 98 ]\n"
     ]
    }
   ],
   "source": [
    "function selectionSort(arr) {\n",
    "    let min;\n",
    "  \n",
    "    //start passes.\n",
    "    for (let i = 0; i < arr.length; i++) {\n",
    "      //index of the smallest element to be the ith element.\n",
    "      min = i;\n",
    "  \n",
    "      //Check through the rest of the array for a lesser element\n",
    "      for (let j = i + 1; j < arr.length; j++) {\n",
    "        if (arr[j] < arr[min]) {\n",
    "          min = j;\n",
    "        }\n",
    "      }\n",
    "  \n",
    "      //compare the indexes\n",
    "      if (min !== i) {\n",
    "        //swap\n",
    "        [arr[i], arr[min]] = [arr[min], arr[i]];\n",
    "      }\n",
    "    }\n",
    "  \n",
    "    return arr;\n",
    "  }\n",
    "  \n",
    "  console.log(selectionSort([29, 72, 98, 13, 87, 66, 52, 51, 36]));"
   ]
  },
  {
   "cell_type": "markdown",
   "metadata": {},
   "source": [
    "## Merge Sort"
   ]
  },
  {
   "cell_type": "code",
   "execution_count": 8,
   "metadata": {},
   "outputs": [
    {
     "name": "stdout",
     "output_type": "stream",
     "text": [
      "[ 10, 20, 30, 40, 50, 60, 70 ]\n"
     ]
    }
   ],
   "source": [
    "//merging two arrays appropriately.\n",
    "function merge(arr1, arr2) {\n",
    "    //make a new array and have two value pointers\n",
    "    let res = [],\n",
    "      i = 0,\n",
    "      j = 0;\n",
    "  \n",
    "    //sorting the first array.\n",
    "    if (arr1.length > 1) {\n",
    "      let min = 0;\n",
    "      for (let i = 0; i < arr1.length; i++) {\n",
    "        if (i !== min) {\n",
    "          if (arr1[i] < arr1[min]) {\n",
    "            //also swap the elements\n",
    "            [arr1[i], arr1[min]] = [arr1[min], arr1[i]];\n",
    "            //change the minimum\n",
    "            min = i;\n",
    "          }\n",
    "        }\n",
    "      }\n",
    "    }\n",
    "  \n",
    "    //sorting the second array.\n",
    "    if (arr2.length > 1) {\n",
    "      let min = 0;\n",
    "      for (let i = 0; i < arr2.length; i++) {\n",
    "        if (i !== min) {\n",
    "          if (arr2[i] < arr2[min]) {\n",
    "            //also swap the elements\n",
    "            [arr2[i], arr2[min]] = [arr2[min], arr2[i]];\n",
    "            //change the minimum\n",
    "            min = i;\n",
    "          }\n",
    "        }\n",
    "      }\n",
    "    }\n",
    "  \n",
    "    //Value comparison.\n",
    "    while (i < arr1.length && j < arr2.length) {\n",
    "      if (arr1[i] < arr2[j]) {\n",
    "        res.push(arr1[i]);\n",
    "        i++;\n",
    "      } else {\n",
    "        res.push(arr2[j]);\n",
    "        j++;\n",
    "      }\n",
    "    }\n",
    "  \n",
    "    //pushing the rest of arr1.\n",
    "    while (i < arr1.length) {\n",
    "      res.push(arr1[i]);\n",
    "      i++;\n",
    "    }\n",
    "  \n",
    "    //pushing the rest of arr2.\n",
    "    while (j < arr2.length) {\n",
    "      res.push(arr2[j]);\n",
    "      j++;\n",
    "    }\n",
    "  \n",
    "    return res;\n",
    "  }\n",
    "  \n",
    "  //merge sort\n",
    "  function mergeSort(arr) {\n",
    "    //Best case\n",
    "    if (arr.length <= 1) return arr;\n",
    "  \n",
    "    //splitting into halves\n",
    "    let mid = Math.ceil(arr.length / 2);\n",
    "  \n",
    "    let arr1 = arr.slice(0, mid);\n",
    "  \n",
    "    let arr2 = arr.slice(mid);\n",
    "  \n",
    "    let arr1_subarrays = [],\n",
    "      sorted_arr1_subarrays = [];\n",
    "  \n",
    "    let arr2_subarrays = [],\n",
    "      sorted_arr2_subarrays = [];\n",
    "  \n",
    "    //loop through array 1 making subarrays of two elements\n",
    "    for (let i = 0; i < arr1.length; i += 2) {\n",
    "      arr1_subarrays.push(arr1.slice(i, i + 2));\n",
    "    }\n",
    "  \n",
    "    //loop through array 2 making subarrays of two elements.\n",
    "    for (let i = 0; i < arr2.length; i += 2) {\n",
    "      arr2_subarrays.push(arr2.slice(i, i + 2));\n",
    "    }\n",
    "  \n",
    "    // sorting each subarray of arr1.\n",
    "    for (let i = 0; i < arr1_subarrays.length; i += 2) {\n",
    "      let result = merge(arr1_subarrays[i], arr1_subarrays[i + 1]);\n",
    "      result.forEach((value) => sorted_arr1_subarrays.push(value));\n",
    "    }\n",
    "  \n",
    "    // sorting each subarray of arr2.\n",
    "    for (let i = 0; i < arr2_subarrays.length; i += 2) {\n",
    "      let result = merge(arr2_subarrays[i], arr2_subarrays[i + 1]);\n",
    "      result.forEach((value) => sorted_arr2_subarrays.push(value));\n",
    "    }\n",
    "  \n",
    "    let result = merge(sorted_arr1_subarrays, sorted_arr2_subarrays);\n",
    "  \n",
    "    return result;\n",
    "  }\n",
    "  \n",
    "  console.log(mergeSort([70, 50, 30, 10, 20, 40, 60]));"
   ]
  },
  {
   "cell_type": "markdown",
   "metadata": {},
   "source": [
    "## Quicksort"
   ]
  },
  {
   "cell_type": "code",
   "execution_count": 9,
   "metadata": {},
   "outputs": [
    {
     "name": "stdout",
     "output_type": "stream",
     "text": [
      "[ 2, 3, 5, 6, 7, 9 ]\n"
     ]
    }
   ],
   "source": [
    "function partition(items, left, right) {\n",
    "    //rem that left and right are pointers.\n",
    "  \n",
    "    let pivot = items[Math.floor((right + left) / 2)],\n",
    "      i = left, //left pointer\n",
    "      j = right; //right pointer\n",
    "  \n",
    "    while (i <= j) {\n",
    "      //increment left pointer if the value is less than the pivot\n",
    "      while (items[i] < pivot) {\n",
    "        i++;\n",
    "      }\n",
    "  \n",
    "      //decrement right pointer if the value is more than the pivot\n",
    "      while (items[j] > pivot) {\n",
    "        j--;\n",
    "      }\n",
    "  \n",
    "      //else we swap.\n",
    "      if (i <= j) {\n",
    "        [items[i], items[j]] = [items[j], items[i]];\n",
    "        i++;\n",
    "        j--;\n",
    "      }\n",
    "    }\n",
    "  \n",
    "    //return the left pointer\n",
    "    return i;\n",
    "  }\n",
    "  \n",
    "  function quickSort(items, left, right) {\n",
    "    let index;\n",
    "  \n",
    "    if (items.length > 1) {\n",
    "      index = partition(items, left, right); //get the left pointer returned\n",
    "  \n",
    "      if (left < index - 1) {\n",
    "        //more elements on the left side\n",
    "        quickSort(items, left, index - 1);\n",
    "      }\n",
    "  \n",
    "      if (index < right) {\n",
    "        //more elements on the right side\n",
    "        quickSort(items, index, right);\n",
    "      }\n",
    "    }\n",
    "  \n",
    "    return items; //return the sorted array\n",
    "  }\n",
    "  \n",
    "  let items = [5, 3, 7, 6, 2, 9];\n",
    "  \n",
    "  console.log(quickSort(items, 0, items.length - 1));"
   ]
  }
 ],
 "metadata": {
  "kernelspec": {
   "display_name": "JavaScript (Node.js)",
   "language": "javascript",
   "name": "javascript"
  },
  "language_info": {
   "file_extension": ".js",
   "mimetype": "application/javascript",
   "name": "javascript",
   "version": "10.13.0"
  },
  "orig_nbformat": 4,
  "vscode": {
   "interpreter": {
    "hash": "31f2aee4e71d21fbe5cf8b01ff0e069b9275f58929596ceb00d14d90e3e16cd6"
   }
  }
 },
 "nbformat": 4,
 "nbformat_minor": 2
}
