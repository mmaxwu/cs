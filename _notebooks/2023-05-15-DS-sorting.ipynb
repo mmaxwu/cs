{
 "cells": [
  {
   "attachments": {},
   "cell_type": "markdown",
   "metadata": {},
   "source": [
    "# Sorting Algorithms\n",
    "- title: Sorting Algorithms\n",
    "- description: Sorting Algorithms CW and HW\n",
    "- toc: true\n",
    "- comments: true\n",
    "- categories: [Week 34, jupyter] "
   ]
  },
  {
   "attachments": {},
   "cell_type": "markdown",
   "metadata": {},
   "source": [
    "[wget link](https://raw.githubusercontent.com/nighthawkcoders/APCSP/master/_notebooks/2023-05-15-DS-sorting.ipynb)"
   ]
  },
  {
   "cell_type": "code",
   "execution_count": 3,
   "metadata": {},
   "outputs": [
    {
     "name": "stdout",
     "output_type": "stream",
     "text": [
      "Random List\n",
      "[9, 62, 78, 54, 18, 74, 58, 84, 20, 46]\n"
     ]
    }
   ],
   "source": [
    "import random\n",
    "\n",
    "numbers = []\n",
    "for i in range(10):\n",
    "    numbers.append(random.randint(0,100))\n",
    "print(\"Random List\")\n",
    "print(numbers)"
   ]
  },
  {
   "attachments": {},
   "cell_type": "markdown",
   "metadata": {},
   "source": [
    "# Warm Up\n",
    "\n",
    "> Discuss with a partner... \n",
    "What are some strategies you would use to sort this list? (Don't worry about writing code for now)\n",
    "- ?"
   ]
  },
  {
   "attachments": {},
   "cell_type": "markdown",
   "metadata": {},
   "source": [
    "# Explore\n",
    "\n",
    "Get into groups of 3\n",
    "\n",
    "We will be focusing on 4 algorithms today.\n",
    "\n",
    "We will look at the first one together, Bubble Sort\n",
    "\n",
    "![](images/bubble-sort.png)\n",
    "\n",
    "What is happening with this sort?\n",
    "\n",
    "In your groups you will each choose to be an expert on a sorting algorithm. Merge, Selection, and Insertion.\n",
    "Take about 5 minutes to read about your algorithm (Geek for Geeks linked below) and be ready to explain it to your other group members. \n",
    "\n",
    "[Merge](https://www.geeksforgeeks.org/merge-sort/#)\n",
    "\n",
    "[Selection](https://www.geeksforgeeks.org/selection-sort/)\n",
    "\n",
    "[Insertion](https://www.geeksforgeeks.org/insertion-sort/)"
   ]
  },
  {
   "attachments": {},
   "cell_type": "markdown",
   "metadata": {},
   "source": [
    "## Practice\n",
    "\n",
    "[75, 17, 46, 80, 67, 45, 69, 79, 40, 0]\n",
    "\n",
    "How would you sort this list with... \n",
    "- Bubble Sort\n",
    "- Selection Sort\n",
    "> Explain.\n",
    "\n",
    "[88, 39, 53, 39, 58, 43, 74, 81, 71, 51]\n",
    "\n",
    "How would you sort this list with... \n",
    "- Merge Sort\n",
    "- Insertion Sort\n",
    "> Explain.\n"
   ]
  },
  {
   "attachments": {},
   "cell_type": "markdown",
   "metadata": {},
   "source": [
    "# Sorting Words\n",
    "> Sorting strings works in the same way as integers. Using your expertise algorithm, sort the following list of random words."
   ]
  },
  {
   "cell_type": "code",
   "execution_count": 1,
   "metadata": {},
   "outputs": [
    {
     "name": "stderr",
     "output_type": "stream",
     "text": [
      "[nltk_data] Downloading package words to /home/syeung/nltk_data...\n"
     ]
    },
    {
     "name": "stdout",
     "output_type": "stream",
     "text": [
      "Random List\n",
      "['taqua', 'radknight', 'gonococcal', 'unreproducible', 'blastogranitic', 'polyoecism', 'ulrichite', 'geosyncline', 'entomologist', 'kilnrib']\n"
     ]
    },
    {
     "name": "stderr",
     "output_type": "stream",
     "text": [
      "[nltk_data]   Unzipping corpora/words.zip.\n"
     ]
    }
   ],
   "source": [
    "import nltk\n",
    "import random\n",
    "\n",
    "nltk.download('words')  # Download the word list (only required once)\n",
    "\n",
    "from nltk.corpus import words\n",
    "\n",
    "english_words = words.words()\n",
    "#print(len(english_words))  # Prints the number of words in the list\n",
    "\n",
    "# You can now use the 'english_words' list in your code\n",
    "\n",
    "words = []\n",
    "for i in range(10):\n",
    "    words.append(english_words[random.randint(0,len(english_words))])\n",
    "print(\"Random List\")\n",
    "print(words)"
   ]
  },
  {
   "attachments": {},
   "cell_type": "markdown",
   "metadata": {},
   "source": [
    "## Discuss \n",
    "Answer the following with your group.\n",
    "\n",
    "- When should you use each algorithm? What makes an algorithm the right choice?\n",
    "- Given the following lists...\n",
    "    - [0, 2, 6, 4, 8, 10]\n",
    "      - You would want to use bubble sort or insertion sort because only two of the elements are unsorted, so it will only take one iteration to \n",
    "    - [Elephant, Banana, Cat, Dog, Apple]\n",
    "      - You would want to use selection sort for this list because you only need one pass, as the first pass would sort everything with switching apple to elephant\n",
    "    - [29, 13, 83, 47, 32, 78, 100, 60, 65, 15, 24, 9, 40, 68, 53, 8, 90, 58, 39, 32, 34, 91, 74, 94, 49, 87, 34, 87, 23, 17, 27, 2, 38, 58, 84, 15, 9, 46, 74, 40, 44, 8, 55, 28, 81, 92, 81, 88, 53, 38, 19, 21, 9, 54, 21, 67, 3, 41, 3, 74, 13, 71, 70, 45, 5, 36, 80, 64, 97, 86, 73, 74, 94, 79, 49, 32, 20, 68, 64, 69, 1, 77, 31, 56, 100, 80, 48, 75, 85, 93, 67, 57, 26, 56, 43, 53, 59, 28, 67, 50]\n",
    "      - You would want to use merge sort for this list because the list is long so it would be ideal to keep dividing the long list into smaller lists to minimize the iterations\n",
    "Select the algorithm you believe is best for each, explain."
   ]
  },
  {
   "attachments": {},
   "cell_type": "markdown",
   "metadata": {},
   "source": [
    "## HACKS\n",
    "> Provided below is a Bubble Sort Algorithm sorting a list of dictionaries based off of selected key.\n",
    "\n",
    "- Now it's time to do some coding...\n",
    "\n",
    "- Run code and then research and answer these questions...\n",
    "    - Is a list and/or dictionary in python considered a primitive or collection type?  Why?\n",
    "      - *A list and a dictionary are considered collection types, rather than primitive types. Both lists and dictionaries are considered collection types because they allow you to store and manipulate multiple values or objects, providing more flexibility and functionality compared to primitive types.*\n",
    "    - Is the list passed into bubble sort \"pass-by-value\" or \"pass-by-reference? Describe why in relation to output.\n",
    "      - *Passed by reference. This means that the function receives a reference to the original list, not a copy of it. Therefore, any modifications made to the list inside the function will affect the original list outside the function.*\n",
    "\n",
    "- Implement new cell(s) and/or organize cells to do the following.\n",
    "    - Create your own list\n",
    "    - Use your expertise sorting algorithm (selection, insertion, merge). Note, I got my bubble sort from Geek for Geeks and made modifications. Each student in a group should have a unique algorithm.\n",
    "    - Test your list with my bubble sort\n",
    "    - Test my list with your new sort\n",
    "    - Research analysis on sorting: comparisons, swaps, time.  Build this into your hacks.\n",
    "    - Find a better way to print the data, key first, then other elements in viewable form.\n",
    "\n",
    "Use the code below to help guide your adventure"
   ]
  },
  {
   "cell_type": "code",
   "execution_count": 1,
   "metadata": {},
   "outputs": [
    {
     "name": "stdout",
     "output_type": "stream",
     "text": [
      "Original\n",
      "[{'name': 'Risa', 'age': 18, 'city': 'New York'}, {'name': 'John', 'age': 63, 'city': 'Eugene'}, {'name': 'Shekar', 'age': 18, 'city': 'San Francisco'}, {'name': 'Ryan', 'age': 21, 'city': 'Los Angeles'}]\n",
      "name\n",
      "[{'name': 'John', 'age': 63, 'city': 'Eugene'}, {'name': 'Risa', 'age': 18, 'city': 'New York'}, {'name': 'Ryan', 'age': 21, 'city': 'Los Angeles'}, {'name': 'Shekar', 'age': 18, 'city': 'San Francisco'}]\n",
      "age\n",
      "[{'name': 'Risa', 'age': 18, 'city': 'New York'}, {'name': 'Shekar', 'age': 18, 'city': 'San Francisco'}, {'name': 'Ryan', 'age': 21, 'city': 'Los Angeles'}, {'name': 'John', 'age': 63, 'city': 'Eugene'}]\n",
      "city\n",
      "[{'name': 'John', 'age': 63, 'city': 'Eugene'}, {'name': 'Ryan', 'age': 21, 'city': 'Los Angeles'}, {'name': 'Risa', 'age': 18, 'city': 'New York'}, {'name': 'Shekar', 'age': 18, 'city': 'San Francisco'}]\n"
     ]
    }
   ],
   "source": [
    "\"\"\"\n",
    "* Creator: Nighthawk Coding Society\n",
    "Bubble Sort of a List with optimizations\n",
    "\"\"\"\n",
    "\n",
    "# bubble sorts a list of dictionaries, base off of provided key\n",
    "def bubbleSort(list, key):\n",
    "    n = len(list) - 1  # list are indexed 0 to n-1, len is n\n",
    "    \n",
    "    # Traverse through list with i index\n",
    "    for i in range(n):\n",
    "        swapped = False  # optimize code, so it exits if now swaps on inner loop\n",
    "\n",
    "        # Inner traversal using j index\n",
    "        for j in range(n-i):  # n-i as positions on right are in order in bubble\n",
    " \n",
    "            # Swap if the element KeyN is greater KeyN1\n",
    "            keyN = list[j].get(key)\n",
    "            keyN1 = list[j+1].get(key)\n",
    "            if keyN > keyN1:\n",
    "                swapped = True\n",
    "                list[j], list[j + 1] = list[j + 1], list[j]  # single line swap\n",
    "         \n",
    "        if not swapped:  # if no swaps on inner pass, list is sorted\n",
    "            return  # exit function\n",
    "    \n",
    "\n",
    "if __name__ == \"__main__\":\n",
    "    # list/dictionary sample\n",
    "    list_of_people = [\n",
    "    {\"name\": \"Risa\", \"age\": 18, \"city\": \"New York\"},\n",
    "    {\"name\": \"John\", \"age\": 63, \"city\": \"Eugene\"},\n",
    "    {\"name\": \"Shekar\", \"age\": 18, \"city\": \"San Francisco\"},\n",
    "    {\"name\": \"Ryan\", \"age\": 21, \"city\": \"Los Angeles\"}\n",
    "    ]\n",
    "    \n",
    "    # assuming uniform keys, pick 1st row as source of keys\n",
    "    key_row = list_of_people[0]\n",
    "\n",
    "    # print list as defined\n",
    "    print(\"Original\")\n",
    "    print(list_of_people)\n",
    "    \n",
    "    for key in key_row:  # finds each key in the row\n",
    "        print(key)\n",
    "        bubbleSort(list_of_people, key)  # sort list of people\n",
    "        print(list_of_people)\n",
    "        \n",
    "        \n",
    "        \n",
    "\n",
    "\n"
   ]
  },
  {
   "cell_type": "code",
   "execution_count": 2,
   "metadata": {},
   "outputs": [
    {
     "name": "stdout",
     "output_type": "stream",
     "text": [
      "Original\n",
      "[{'name': 'Apple', 'color': 'Red', 'price': 1.5}, {'name': 'Banana', 'color': 'Yellow', 'price': 0.5}, {'name': 'Orange', 'color': 'Orange', 'price': 0.75}, {'name': 'Grapes', 'color': 'Purple', 'price': 2.0}]\n",
      "name\n",
      "[{'name': 'Apple', 'color': 'Red', 'price': 1.5}, {'name': 'Banana', 'color': 'Yellow', 'price': 0.5}, {'name': 'Grapes', 'color': 'Purple', 'price': 2.0}, {'name': 'Orange', 'color': 'Orange', 'price': 0.75}]\n",
      "color\n",
      "[{'name': 'Orange', 'color': 'Orange', 'price': 0.75}, {'name': 'Grapes', 'color': 'Purple', 'price': 2.0}, {'name': 'Apple', 'color': 'Red', 'price': 1.5}, {'name': 'Banana', 'color': 'Yellow', 'price': 0.5}]\n",
      "price\n",
      "[{'name': 'Banana', 'color': 'Yellow', 'price': 0.5}, {'name': 'Orange', 'color': 'Orange', 'price': 0.75}, {'name': 'Apple', 'color': 'Red', 'price': 1.5}, {'name': 'Grapes', 'color': 'Purple', 'price': 2.0}]\n"
     ]
    }
   ],
   "source": [
    "##### testing personal list with given bubble sort algorithm #####\n",
    "def bubbleSort(lst, key):\n",
    "    n = len(lst) - 1\n",
    "\n",
    "    for i in range(n):\n",
    "        swapped = False\n",
    "\n",
    "        for j in range(n - i):\n",
    "            keyN = lst[j].get(key)\n",
    "            keyN1 = lst[j + 1].get(key)\n",
    "            if keyN > keyN1:\n",
    "                swapped = True\n",
    "                lst[j], lst[j + 1] = lst[j + 1], lst[j]\n",
    "\n",
    "        if not swapped:\n",
    "            return\n",
    "\n",
    "if __name__ == \"__main__\":\n",
    "    # list of fruits\n",
    "    list_of_fruits = [\n",
    "        {\"name\": \"Apple\", \"color\": \"Red\", \"price\": 1.5},\n",
    "        {\"name\": \"Banana\", \"color\": \"Yellow\", \"price\": 0.5},\n",
    "        {\"name\": \"Orange\", \"color\": \"Orange\", \"price\": 0.75},\n",
    "        {\"name\": \"Grapes\", \"color\": \"Purple\", \"price\": 2.0}\n",
    "    ]\n",
    "\n",
    "    # assuming uniform keys, pick 1st row as source of keys\n",
    "    key_row = list_of_fruits[0]\n",
    "\n",
    "    # print list as defined\n",
    "    print(\"Original\")\n",
    "    print(list_of_fruits)\n",
    "\n",
    "    for key in key_row:\n",
    "        print(key)\n",
    "        bubbleSort(list_of_fruits, key)\n",
    "        print(list_of_fruits)\n"
   ]
  },
  {
   "cell_type": "code",
   "execution_count": 3,
   "metadata": {},
   "outputs": [
    {
     "name": "stdout",
     "output_type": "stream",
     "text": [
      "Original List:\n",
      "[{'name': 'Risa', 'age': 18, 'city': 'New York'}, {'name': 'John', 'age': 63, 'city': 'Eugene'}, {'name': 'Shekar', 'age': 18, 'city': 'San Francisco'}, {'name': 'Ryan', 'age': 21, 'city': 'Los Angeles'}]\n",
      "Sorted List:\n",
      "[{'name': 'John', 'age': 63, 'city': 'Eugene'}, {'name': 'Risa', 'age': 18, 'city': 'New York'}, {'name': 'Ryan', 'age': 21, 'city': 'Los Angeles'}, {'name': 'Shekar', 'age': 18, 'city': 'San Francisco'}]\n"
     ]
    }
   ],
   "source": [
    "##### Testing your list with my insertion sort #####\n",
    "def insertionSort(lst, key):\n",
    "    n = len(lst)\n",
    "\n",
    "    for i in range(1, n):\n",
    "        current = lst[i]\n",
    "        j = i - 1\n",
    "\n",
    "        while j >= 0 and lst[j][key] > current[key]:\n",
    "            lst[j + 1] = lst[j]\n",
    "            j -= 1\n",
    "\n",
    "        lst[j + 1] = current\n",
    "\n",
    "# Testing the insertion sort with the list_of_people\n",
    "if __name__ == \"__main__\":\n",
    "    list_of_people = [\n",
    "        {\"name\": \"Risa\", \"age\": 18, \"city\": \"New York\"},\n",
    "        {\"name\": \"John\", \"age\": 63, \"city\": \"Eugene\"},\n",
    "        {\"name\": \"Shekar\", \"age\": 18, \"city\": \"San Francisco\"},\n",
    "        {\"name\": \"Ryan\", \"age\": 21, \"city\": \"Los Angeles\"}\n",
    "    ]\n",
    "    \n",
    "    print(\"Original List:\")\n",
    "    print(list_of_people)\n",
    "\n",
    "    key = \"name\"  # Specify the key to sort the list_of_people\n",
    "\n",
    "    insertionSort(list_of_people, key)\n",
    "\n",
    "    print(\"Sorted List:\")\n",
    "    print(list_of_people)\n"
   ]
  },
  {
   "attachments": {},
   "cell_type": "markdown",
   "metadata": {},
   "source": [
    "### Research analysis on sorting: comparisons, swaps, time.\n",
    "- Comparisons:\n",
    "  - Comparisons refer to the number of pairwise comparisons made during the sorting process. In most sorting algorithms, elements are compared to determine their relative order and to make decisions on swapping or rearranging them. The number of comparisons often reflects the efficiency of an algorithm, as a smaller number of comparisons generally leads to faster sorting.\n",
    "- Swaps:\n",
    "  - Swaps represent the number of element exchanges or rearrangements performed during the sorting process. When sorting, elements are moved around to put them in their correct order. Swapping elements can be a costly operation, especially for large data sets or when swapping involves complex data structures. Minimizing the number of swaps is typically desirable for efficient sorting.\n",
    "- Time Complexity:\n",
    "  - Time complexity analysis provides a measure of how the runtime of an algorithm increases with the input size. Sorting algorithms can have different time complexities, which determine their efficiency for sorting large data sets. Common time complexities for sorting algorithms include O(n^2) for algorithms like bubble sort and insertion sort, and O(n log n) for more efficient algorithms like merge sort and quicksort. Time complexity analysis considers factors such as the number of comparisons and swaps performed."
   ]
  },
  {
   "attachments": {},
   "cell_type": "markdown",
   "metadata": {},
   "source": [
    "### Better way to print the data"
   ]
  },
  {
   "cell_type": "code",
   "execution_count": 5,
   "metadata": {},
   "outputs": [
    {
     "name": "stdout",
     "output_type": "stream",
     "text": [
      "Original\n",
      "name: Risa, age: 18, city: New York\n",
      "name: John, age: 63, city: Eugene\n",
      "name: Shekar, age: 18, city: San Francisco\n",
      "name: Ryan, age: 21, city: Los Angeles\n",
      "\n",
      "Sorting by key: name\n",
      "name: John, age: 63, city: Eugene\n",
      "name: Risa, age: 18, city: New York\n",
      "name: Ryan, age: 21, city: Los Angeles\n",
      "name: Shekar, age: 18, city: San Francisco\n",
      "\n",
      "Sorting by key: age\n",
      "name: Risa, age: 18, city: New York\n",
      "name: Shekar, age: 18, city: San Francisco\n",
      "name: Ryan, age: 21, city: Los Angeles\n",
      "name: John, age: 63, city: Eugene\n",
      "\n",
      "Sorting by key: city\n",
      "name: John, age: 63, city: Eugene\n",
      "name: Ryan, age: 21, city: Los Angeles\n",
      "name: Risa, age: 18, city: New York\n",
      "name: Shekar, age: 18, city: San Francisco\n"
     ]
    }
   ],
   "source": [
    "if __name__ == \"__main__\":\n",
    "    # list/dictionary sample\n",
    "    list_of_people = [\n",
    "        {\"name\": \"Risa\", \"age\": 18, \"city\": \"New York\"},\n",
    "        {\"name\": \"John\", \"age\": 63, \"city\": \"Eugene\"},\n",
    "        {\"name\": \"Shekar\", \"age\": 18, \"city\": \"San Francisco\"},\n",
    "        {\"name\": \"Ryan\", \"age\": 21, \"city\": \"Los Angeles\"}\n",
    "    ]\n",
    "    \n",
    "    # assuming uniform keys, pick 1st row as source of keys\n",
    "    key_row = list_of_people[0]\n",
    "\n",
    "    # print list as defined\n",
    "    print(\"Original\")\n",
    "    for person in list_of_people:\n",
    "        print(\", \".join([f\"{key}: {person[key]}\" for key in person]))\n",
    "\n",
    "    for key in key_row:  # finds each key in the row\n",
    "        print(\"\\nSorting by key:\", key)\n",
    "        bubbleSort(list_of_people, key)  # sort list of people\n",
    "        for person in list_of_people:\n",
    "            print(\", \".join([f\"{key}: {person[key]}\" for key in person]))\n"
   ]
  }
 ],
 "metadata": {
  "kernelspec": {
   "display_name": "base",
   "language": "python",
   "name": "python3"
  },
  "language_info": {
   "codemirror_mode": {
    "name": "ipython",
    "version": 3
   },
   "file_extension": ".py",
   "mimetype": "text/x-python",
   "name": "python",
   "nbconvert_exporter": "python",
   "pygments_lexer": "ipython3",
   "version": "3.8.9"
  },
  "orig_nbformat": 4
 },
 "nbformat": 4,
 "nbformat_minor": 2
}
