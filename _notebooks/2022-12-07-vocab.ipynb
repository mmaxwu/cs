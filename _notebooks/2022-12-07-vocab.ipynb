{
 "cells": [
  {
   "cell_type": "markdown",
   "metadata": {},
   "source": [
    "# Vocab\n",
    "- title: Vocab\n",
    "- description: Vocabulary for units 2 & 3\n",
    "- toc: true\n",
    "- comments: true\n",
    "- categories: [Week 15, jupyter] "
   ]
  },
  {
   "cell_type": "markdown",
   "metadata": {},
   "source": [
    "## Unit 2"
   ]
  },
  {
   "cell_type": "markdown",
   "metadata": {},
   "source": [
    "<mark>Bits, Bytes, Hexadecimal / Nibbles:</mark>\n",
    "A bit is a unit of information that can have two values, typically represented as a 0 or a 1. A byte is a unit of digital information that typically consists of eight bits. Hexadecimal, or \"hex\" for short, is a numbering system that uses 16 different digits, represented as the numbers 0 through 9 and the letters A through F. Each hexadecimal digit represents four binary digits, also known as a nibble. In other words, two hexadecimal digits can be used to represent one byte. Hexadecimal numbers are often used to represent large binary values in a more compact and human-readable form."
   ]
  },
  {
   "cell_type": "code",
   "execution_count": 3,
   "metadata": {},
   "outputs": [
    {
     "name": "stdout",
     "output_type": "stream",
     "text": [
      "First bit: 1\n",
      "Second bit: 2\n",
      "Third bit: 0\n",
      "Fourth bit: 8\n"
     ]
    }
   ],
   "source": [
    "# Declare a variable and initialize it to the binary value 1011\n",
    "value = 0b1011\n",
    "\n",
    "# Print the value of the first bit\n",
    "print(f\"First bit: {value & 0b1}\")\n",
    "\n",
    "# Print the value of the second bit\n",
    "print(f\"Second bit: {value & 0b10}\")\n",
    "\n",
    "# Print the value of the third bit\n",
    "print(f\"Third bit: {value & 0b100}\")\n",
    "\n",
    "# Print the value of the fourth bit\n",
    "print(f\"Fourth bit: {value & 0b1000}\")\n"
   ]
  },
  {
   "cell_type": "markdown",
   "metadata": {},
   "source": [
    "<mark>Binary Numbers: Unsigned Integer, Signed Integer, Floating Point:</mark>\n",
    "A binary number is a number expressed in the base-2 numeral system, which uses only two digits: 0 and 1. This is different from the base-10 numeral system, which uses the digits 0 through 9. In computer science, binary numbers are often used to represent values in a computer's memory or to represent data being transmitted between computer systems."
   ]
  },
  {
   "cell_type": "code",
   "execution_count": 2,
   "metadata": {},
   "outputs": [
    {
     "name": "stdout",
     "output_type": "stream",
     "text": [
      "Value in decimal: 9\n",
      "Value in binary: 0b1001\n"
     ]
    }
   ],
   "source": [
    "# Declare a variable and initialize it to the binary value 1001\n",
    "value = 0b1001\n",
    "\n",
    "# Print the value of the variable in decimal\n",
    "print(f\"Value in decimal: {value}\")\n",
    "\n",
    "# Print the value of the variable in binary\n",
    "print(f\"Value in binary: {bin(value)}\")\n",
    "\n"
   ]
  },
  {
   "cell_type": "markdown",
   "metadata": {},
   "source": [
    "<mark>Binary Data Abstractions: Boolean, ASCII, Unicode, RGB:</mark>\n",
    "A binary data abstraction is a data structure that is used to represent and manipulate data in binary form. This can be useful in situations where data needs to be stored or transmitted in a compact and efficient manner, such as in computer memory or network communication."
   ]
  },
  {
   "cell_type": "code",
   "execution_count": null,
   "metadata": {},
   "outputs": [],
   "source": [
    "## Still trying to find code to represent this"
   ]
  },
  {
   "cell_type": "markdown",
   "metadata": {},
   "source": [
    "<mark>Data Compression: Lossy, LosslessL:</mark>\n",
    "Not discussed yet\n"
   ]
  },
  {
   "cell_type": "code",
   "execution_count": null,
   "metadata": {},
   "outputs": [],
   "source": [
    "## Not discussed yet"
   ]
  },
  {
   "cell_type": "markdown",
   "metadata": {},
   "source": [
    "## Unit 3"
   ]
  },
  {
   "cell_type": "markdown",
   "metadata": {},
   "source": [
    "<mark>Variables, Data Types, Assignment Operators:</mark>\n",
    "A variable is a named location in a computer's memory where a value can be stored and retrieved. In most programming languages, variables have a specific data type, which determines the kind of values that the variable can store.\n",
    "\n",
    "Data types are categories that are used to classify the different types of data that can be stored in a variable. Examples of common data types include integers, which are whole numbers, and strings, which are sequences of characters.\n",
    "\n",
    "Assignment operators are operators that are used to assign a value to a variable. In most programming languages, the assignment operator is the equal sign (=). For example, the following code uses the assignment operator to assign the value 10 to a variable named x:"
   ]
  },
  {
   "cell_type": "code",
   "execution_count": null,
   "metadata": {},
   "outputs": [],
   "source": [
    "x = 10\n"
   ]
  },
  {
   "cell_type": "markdown",
   "metadata": {},
   "source": [
    "Once this code is executed, the value 10 will be stored in the variable x, and we can use the variable to access this value later in the program. For example, we could print the value of x using the following code:\n",
    "\n"
   ]
  },
  {
   "cell_type": "code",
   "execution_count": null,
   "metadata": {},
   "outputs": [],
   "source": [
    "print(x)  # Output: 10\n"
   ]
  },
  {
   "cell_type": "markdown",
   "metadata": {},
   "source": [
    "It is important to note that the assignment operator is different from the equality operator (==), which is used to compare two values for equality. For example, the following code uses the equality operator to check whether the value of x is equal to 10:\n",
    "\n"
   ]
  },
  {
   "cell_type": "code",
   "execution_count": null,
   "metadata": {},
   "outputs": [],
   "source": [
    "if x == 10:\n",
    "    print(\"x is equal to 10\")\n"
   ]
  },
  {
   "cell_type": "markdown",
   "metadata": {},
   "source": [
    "In this case, the code will print the message \"x is equal to 10\" because the value of x is indeed equal to 10."
   ]
  },
  {
   "cell_type": "markdown",
   "metadata": {},
   "source": [
    "<mark>Managing Complexity with Variables:  Lists, 2D Lists, Dictionaries, Class:</mark>\n",
    "Managing complexity with variables involves using different data structures to organize and manipulate data in a way that makes it easier to understand and work with. Some common data structures for managing complexity include lists, 2D lists, dictionaries, and classes.\n",
    "\n",
    "A list is an ordered collection of values that can be of any data type. In most programming languages, lists are enclosed in square brackets ([]) and the values within a list are separated by commas. For example, the following code defines a list of three strings:\n",
    "\n"
   ]
  },
  {
   "cell_type": "code",
   "execution_count": null,
   "metadata": {},
   "outputs": [],
   "source": [
    "names = [\"Alice\", \"Bob\", \"Charlie\"]\n"
   ]
  },
  {
   "cell_type": "markdown",
   "metadata": {},
   "source": [
    "A 2D list, also known as a two-dimensional array or matrix, is a list of lists. It is a data structure that allows us to store and manipulate data in a grid-like format. For example, the following code defines a 2D list with three rows and four columns:\n",
    "\n"
   ]
  },
  {
   "cell_type": "code",
   "execution_count": null,
   "metadata": {},
   "outputs": [],
   "source": [
    "grid = [    [1, 2, 3, 4],\n",
    "    [5, 6, 7, 8],\n",
    "    [9, 10, 11, 12]\n",
    "]\n"
   ]
  },
  {
   "cell_type": "markdown",
   "metadata": {},
   "source": [
    "A dictionary is a data structure that maps keys to values. In most programming languages, dictionaries are enclosed in curly braces ({}) and the keys and values within a dictionary are separated by colons. For example, the following code defines a dictionary that maps strings to integers:\n",
    "\n"
   ]
  },
  {
   "cell_type": "code",
   "execution_count": null,
   "metadata": {},
   "outputs": [],
   "source": [
    "ages = {\n",
    "    \"Alice\": 25,\n",
    "    \"Bob\": 30,\n",
    "    \"Charlie\": 35\n",
    "}\n"
   ]
  },
  {
   "cell_type": "markdown",
   "metadata": {},
   "source": [
    "A class is a blueprint for creating objects. In object-oriented programming, a class defines the attributes and behaviors of a particular type of object. For example, the following code defines a class named Person with two attributes (name and age) and one behavior (a method named greet() that prints a greeting message):\n",
    "\n"
   ]
  },
  {
   "cell_type": "code",
   "execution_count": null,
   "metadata": {},
   "outputs": [],
   "source": [
    "A class is a blueprint for creating objects. In object-oriented programming, a class defines the attributes and behaviors of a particular type of object. For example, the following code defines a class named Person with two attributes (name and age) and one behavior (a method named greet() that prints a greeting message):\n",
    "\n"
   ]
  },
  {
   "cell_type": "markdown",
   "metadata": {},
   "source": [
    "These data structures can be used to manage the complexity of data by organizing it in a way that makes it easier to understand and work with. For example, we could use a list to store a collection of strings, a 2D list to store a grid of numbers, a dictionary to store a mapping of keys to values, or a class to define the attributes and behaviors of a particular type of object.\n",
    "\n",
    "\n",
    "\n"
   ]
  }
 ],
 "metadata": {
  "kernelspec": {
   "display_name": "Python 3.8.9 64-bit",
   "language": "python",
   "name": "python3"
  },
  "language_info": {
   "codemirror_mode": {
    "name": "ipython",
    "version": 3
   },
   "file_extension": ".py",
   "mimetype": "text/x-python",
   "name": "python",
   "nbconvert_exporter": "python",
   "pygments_lexer": "ipython3",
   "version": "3.8.9"
  },
  "orig_nbformat": 4,
  "vscode": {
   "interpreter": {
    "hash": "31f2aee4e71d21fbe5cf8b01ff0e069b9275f58929596ceb00d14d90e3e16cd6"
   }
  }
 },
 "nbformat": 4,
 "nbformat_minor": 2
}
