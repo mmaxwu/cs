{
 "cells": [
  {
   "cell_type": "markdown",
   "metadata": {},
   "source": [
    "# Vocab\n",
    "- title: Vocab\n",
    "- description: Vocabulary for units 2 & 3\n",
    "- toc: true\n",
    "- comments: true\n",
    "- categories: [Week 15, jupyter] "
   ]
  },
  {
   "cell_type": "markdown",
   "metadata": {},
   "source": [
    "## Unit 2"
   ]
  },
  {
   "cell_type": "markdown",
   "metadata": {},
   "source": [
    "<mark>Bits, Bytes, Hexadecimal / Nibbles:</mark>\n",
    "A bit is a unit of information that can have two values, typically represented as a 0 or a 1. A byte is a unit of digital information that typically consists of eight bits. Hexadecimal, or \"hex\" for short, is a numbering system that uses 16 different digits, represented as the numbers 0 through 9 and the letters A through F. Each hexadecimal digit represents four binary digits, also known as a nibble. In other words, two hexadecimal digits can be used to represent one byte. Hexadecimal numbers are often used to represent large binary values in a more compact and human-readable form."
   ]
  },
  {
   "cell_type": "code",
   "execution_count": 3,
   "metadata": {},
   "outputs": [
    {
     "name": "stdout",
     "output_type": "stream",
     "text": [
      "First bit: 1\n",
      "Second bit: 2\n",
      "Third bit: 0\n",
      "Fourth bit: 8\n"
     ]
    }
   ],
   "source": [
    "# Declare a variable and initialize it to the binary value 1011\n",
    "value = 0b1011\n",
    "\n",
    "# Print the value of the first bit\n",
    "print(f\"First bit: {value & 0b1}\")\n",
    "\n",
    "# Print the value of the second bit\n",
    "print(f\"Second bit: {value & 0b10}\")\n",
    "\n",
    "# Print the value of the third bit\n",
    "print(f\"Third bit: {value & 0b100}\")\n",
    "\n",
    "# Print the value of the fourth bit\n",
    "print(f\"Fourth bit: {value & 0b1000}\")\n"
   ]
  },
  {
   "cell_type": "markdown",
   "metadata": {},
   "source": [
    "<mark>Binary Numbers: Unsigned Integer, Signed Integer, Floating Point:</mark>\n",
    "A binary number is a number expressed in the base-2 numeral system, which uses only two digits: 0 and 1. This is different from the base-10 numeral system, which uses the digits 0 through 9. In computer science, binary numbers are often used to represent values in a computer's memory or to represent data being transmitted between computer systems."
   ]
  },
  {
   "cell_type": "code",
   "execution_count": 2,
   "metadata": {},
   "outputs": [
    {
     "name": "stdout",
     "output_type": "stream",
     "text": [
      "Value in decimal: 9\n",
      "Value in binary: 0b1001\n"
     ]
    }
   ],
   "source": [
    "# Declare a variable and initialize it to the binary value 1001\n",
    "value = 0b1001\n",
    "\n",
    "# Print the value of the variable in decimal\n",
    "print(f\"Value in decimal: {value}\")\n",
    "\n",
    "# Print the value of the variable in binary\n",
    "print(f\"Value in binary: {bin(value)}\")\n",
    "\n"
   ]
  },
  {
   "cell_type": "markdown",
   "metadata": {},
   "source": [
    "<mark>Binary Data Abstractions: Boolean, ASCII, Unicode, RGB:</mark>"
   ]
  },
  {
   "cell_type": "markdown",
   "metadata": {},
   "source": [
    "- Boolean data type is a binary data type that can have only two possible values: true or false. It is often used to represent a binary decision or a simple true/false choice in a program.\n",
    "- ASCII encodes characters as numbers. It represents each character with a unique integer value between 0 and 127. ASCII is a 7-bit encoding, which means that it uses 7 bits to represent each character.\n",
    "- Unicode is a standard for encoding characters that includes a much larger range of characters than ASCII. It represents each character with a unique integer value, which can be up to 21 bits in length. Unicode includes all the characters in ASCII, as well as many additional characters from a variety of scripts and languages.\n",
    "- RGB (Red Green Blue) is a color model used to represent colors on a computer or other digital display device. In the RGB model, each color is represented by a combination of red, green, and blue light. The intensity of each color is represented by a number between 0 and 255, with 0 representing no intensity and 255 representing full intensity."
   ]
  },
  {
   "cell_type": "code",
   "execution_count": 1,
   "metadata": {},
   "outputs": [
    {
     "name": "stdout",
     "output_type": "stream",
     "text": [
      "Please type in a word (alphabets ONLY) ...\n",
      "mortensen ->\n",
      "\n",
      "mike\n",
      "oscar\n",
      "romeo\n",
      "tango\n",
      "echo\n",
      "november\n",
      "sierra\n",
      "echo\n",
      "november\n"
     ]
    }
   ],
   "source": [
    "########### Using ASCII for phonetic alphabet\n",
    "\n",
    "\n",
    "\n",
    "\n",
    "\n",
    "\n",
    "\n",
    "# Create list of phonetic alpabets\n",
    "\n",
    "words = [\"alfa\", \"beta\", \"charlie\", \"delta\", \"echo\", \"foxtrot\", \"golf\", \"hotel\", \"india\", \"julitt\", \"kilo\", \"lima\", \"mike\", \"november\", \"oscar\", \"papa\", \"quebec\", \"romeo\", \"sierra\", \"tango\", \"uniform\", \"victor\", \"wiskey\", \"xray\", \"yankee\", \"zulu\"]\n",
    "\n",
    "\n",
    "# Get ASCII value of char 'a'\n",
    "\n",
    "ascii_a = ord('a');\n",
    "\n",
    "\n",
    "# Get input from terminal\n",
    "\n",
    "print(\"Please type in a word (alphabets ONLY) ...\")\n",
    "\n",
    "in_string = input()\n",
    "\n",
    "\n",
    "\n",
    "# Convert the input string into all lower case\n",
    "\n",
    "in_string = in_string.lower()\n",
    "\n",
    "print(in_string + \" ->\" + \"\\n\")\n",
    "\n",
    "\n",
    "# Find ASCII value of each \"char\" in the \"string\"\n",
    "\n",
    "# The difference of ASCII value between these characters and \"a\"\n",
    "\n",
    "# will become the index to the list of words\n",
    "\n",
    "\n",
    "for k in range(len(in_string)) :\n",
    "\n",
    "     in_ascii = ord(in_string[k]) - ascii_a\n",
    "\n",
    "     print(words[in_ascii])"
   ]
  },
  {
   "cell_type": "code",
   "execution_count": 3,
   "metadata": {},
   "outputs": [
    {
     "name": "stdout",
     "output_type": "stream",
     "text": [
      "Hi, my name is Max\n",
      "The length of the string is 18 characters.\n",
      "The Unicode code point for the first character is 72.\n",
      "The character for code point 72 is H.\n"
     ]
    }
   ],
   "source": [
    "####### Unicode\n",
    "\n",
    "# Define a string with Unicode characters\n",
    "unicode_string = \"Hi, my name is Max\"\n",
    "\n",
    "# Print the string to the console\n",
    "print(unicode_string)\n",
    "\n",
    "# Get the length of the string\n",
    "string_length = len(unicode_string)\n",
    "print(f\"The length of the string is {string_length} characters.\")\n",
    "\n",
    "# Get the Unicode code point for the first character in the string\n",
    "first_char_code = ord(unicode_string[0])\n",
    "print(f\"The Unicode code point for the first character is {first_char_code}.\")\n",
    "\n",
    "# Convert the Unicode code point to a character\n",
    "first_char = chr(first_char_code)\n",
    "print(f\"The character for code point {first_char_code} is {first_char}.\")"
   ]
  },
  {
   "cell_type": "code",
   "execution_count": 4,
   "metadata": {},
   "outputs": [
    {
     "name": "stdout",
     "output_type": "stream",
     "text": [
      "Red: 255\n",
      "Green: 0\n",
      "Blue: 0\n",
      "Hexadecimal: #ff0000\n",
      "Hexadecimal: #ff0000\n"
     ]
    }
   ],
   "source": [
    "######## RGB\n",
    "# Define a color using RGB values\n",
    "red = (255, 0, 0)\n",
    "\n",
    "# Print the RGB values to the console\n",
    "print(f\"Red: {red[0]}\")\n",
    "print(f\"Green: {red[1]}\")\n",
    "print(f\"Blue: {red[2]}\")\n",
    "\n",
    "# Convert the RGB values to a hexadecimal string\n",
    "hex_string = \"#{:02x}{:02x}{:02x}\".format(red[0], red[1], red[2])\n",
    "print(f\"Hexadecimal: {hex_string}\")\n",
    "\n",
    "# Define a function to convert an RGB tuple to a hexadecimal string\n",
    "def rgb_to_hex(rgb):\n",
    "    return \"#{:02x}{:02x}{:02x}\".format(rgb[0], rgb[1], rgb[2])\n",
    "\n",
    "# Convert the RGB values to a hexadecimal string using the function\n",
    "hex_string = rgb_to_hex(red)\n",
    "print(f\"Hexadecimal: {hex_string}\")\n"
   ]
  },
  {
   "cell_type": "markdown",
   "metadata": {},
   "source": [
    "<mark>Data Compression: Lossy, LosslessL:</mark>\n",
    "Not discussed yet\n"
   ]
  },
  {
   "cell_type": "code",
   "execution_count": null,
   "metadata": {},
   "outputs": [],
   "source": [
    "## Not discussed yet"
   ]
  },
  {
   "cell_type": "markdown",
   "metadata": {},
   "source": [
    "## Unit 3"
   ]
  },
  {
   "cell_type": "markdown",
   "metadata": {},
   "source": [
    "<mark>Variables, Data Types, Assignment Operators:</mark>"
   ]
  },
  {
   "cell_type": "markdown",
   "metadata": {},
   "source": [
    "- A variable is a named location in a computer's memory where a value can be stored and retrieved. In most programming languages, variables have a specific data type, which determines the kind of values that the variable can store.\n",
    "\n",
    "- Data types are categories that are used to classify the different types of data that can be stored in a variable. Examples of common data types include integers, which are whole numbers, and strings, which are sequences of characters.\n",
    "\n",
    "- Assignment operators are operators that are used to assign a value to a variable. In most programming languages, the assignment operator is the equal sign (=). For example, the following code uses the assignment operator to assign the value 10 to a variable named x:"
   ]
  },
  {
   "cell_type": "code",
   "execution_count": null,
   "metadata": {},
   "outputs": [],
   "source": [
    "x = 10\n"
   ]
  },
  {
   "cell_type": "markdown",
   "metadata": {},
   "source": [
    "Once this code is executed, the value 10 will be stored in the variable x, and we can use the variable to access this value later in the program. For example, we could print the value of x using the following code:\n",
    "\n"
   ]
  },
  {
   "cell_type": "code",
   "execution_count": null,
   "metadata": {},
   "outputs": [],
   "source": [
    "print(x)  # Output: 10\n"
   ]
  },
  {
   "cell_type": "markdown",
   "metadata": {},
   "source": [
    "It is important to note that the assignment operator is different from the equality operator (==), which is used to compare two values for equality. For example, the following code uses the equality operator to check whether the value of x is equal to 10:\n",
    "\n"
   ]
  },
  {
   "cell_type": "code",
   "execution_count": null,
   "metadata": {},
   "outputs": [],
   "source": [
    "if x == 10:\n",
    "    print(\"x is equal to 10\")\n"
   ]
  },
  {
   "cell_type": "markdown",
   "metadata": {},
   "source": [
    "In this case, the code will print the message \"x is equal to 10\" because the value of x is indeed equal to 10."
   ]
  },
  {
   "cell_type": "markdown",
   "metadata": {},
   "source": [
    "<mark>Managing Complexity with Variables:  Lists, 2D Lists, Dictionaries, Class:</mark>\n",
    "Managing complexity with variables involves using different data structures to organize and manipulate data in a way that makes it easier to understand and work with. Some common data structures for managing complexity include lists, 2D lists, dictionaries, and classes.\n",
    "\n",
    "A list is an ordered collection of values that can be of any data type. In most programming languages, lists are enclosed in square brackets ([]) and the values within a list are separated by commas. For example, the following code defines a list of three strings:\n",
    "\n"
   ]
  },
  {
   "cell_type": "code",
   "execution_count": null,
   "metadata": {},
   "outputs": [],
   "source": [
    "names = [\"Alice\", \"Bob\", \"Charlie\"]\n"
   ]
  },
  {
   "cell_type": "markdown",
   "metadata": {},
   "source": [
    "A 2D list, also known as a two-dimensional array or matrix, is a list of lists. It is a data structure that allows us to store and manipulate data in a grid-like format. For example, the following code defines a 2D list with three rows and four columns:\n",
    "\n"
   ]
  },
  {
   "cell_type": "code",
   "execution_count": null,
   "metadata": {},
   "outputs": [],
   "source": [
    "grid = [    [1, 2, 3, 4],\n",
    "    [5, 6, 7, 8],\n",
    "    [9, 10, 11, 12]\n",
    "]\n"
   ]
  },
  {
   "cell_type": "markdown",
   "metadata": {},
   "source": [
    "A dictionary is a data structure that maps keys to values. In most programming languages, dictionaries are enclosed in curly braces ({}) and the keys and values within a dictionary are separated by colons. For example, the following code defines a dictionary that maps strings to integers:\n",
    "\n"
   ]
  },
  {
   "cell_type": "code",
   "execution_count": null,
   "metadata": {},
   "outputs": [],
   "source": [
    "ages = {\n",
    "    \"Alice\": 25,\n",
    "    \"Bob\": 30,\n",
    "    \"Charlie\": 35\n",
    "}\n"
   ]
  },
  {
   "cell_type": "markdown",
   "metadata": {},
   "source": [
    "A class is a blueprint for creating objects. In object-oriented programming, a class defines the attributes and behaviors of a particular type of object. For example, the following code defines a class named Person with two attributes (name and age) and one behavior (a method named greet() that prints a greeting message):\n",
    "\n"
   ]
  },
  {
   "cell_type": "code",
   "execution_count": null,
   "metadata": {},
   "outputs": [],
   "source": [
    "A class is a blueprint for creating objects. In object-oriented programming, a class defines the attributes and behaviors of a particular type of object. For example, the following code defines a class named Person with two attributes (name and age) and one behavior (a method named greet() that prints a greeting message):\n",
    "\n"
   ]
  },
  {
   "cell_type": "markdown",
   "metadata": {},
   "source": [
    "These data structures can be used to manage the complexity of data by organizing it in a way that makes it easier to understand and work with. For example, we could use a list to store a collection of strings, a 2D list to store a grid of numbers, a dictionary to store a mapping of keys to values, or a class to define the attributes and behaviors of a particular type of object.\n",
    "\n",
    "\n",
    "\n"
   ]
  },
  {
   "cell_type": "markdown",
   "metadata": {},
   "source": [
    "<mark>Algorithms, Sequence, Selection, Iteration:</mark>"
   ]
  },
  {
   "cell_type": "markdown",
   "metadata": {},
   "source": [
    "- An algorithm is a set of steps or procedures for solving a specific problem. It is a step-by-step approach to achieving a desired result.\n",
    "\n",
    "- A sequence is a series of steps or events that occur in a specific order. In programming, a sequence can refer to the order in which statements or blocks of code are executed.\n",
    "\n",
    "- Selection is the process of choosing between different options or paths based on certain conditions. In programming, selection is often implemented using control structures such as if statements or switch statements, which allow the program to execute different code blocks depending on whether a certain condition is met.\n",
    "\n",
    "- Iteration is the process of repeating a set of steps or instructions multiple times. In programming, iteration is often implemented using looping structures such as for loops or while loops, which allow the program to execute a block of code multiple times until a certain condition is met.\n"
   ]
  },
  {
   "cell_type": "code",
   "execution_count": null,
   "metadata": {},
   "outputs": [],
   "source": [
    "###### Using algorithms, sequence, selection, and iterations in one program\n",
    "\n",
    "\n",
    "# Define a function to find the largest number in a list\n",
    "def find_largest(numbers):\n",
    "  # Set the initial largest number to the first number in the list\n",
    "  largest = numbers[0]\n",
    "  \n",
    "  # Iterate through the rest of the numbers in the list\n",
    "  for number in numbers[1:]:\n",
    "    # If the current number is larger than the current largest number, update the largest number\n",
    "    if number > largest:\n",
    "      largest = number\n",
    "      \n",
    "  # Return the largest number\n",
    "  return largest\n",
    "\n",
    "# Test the function with a list of numbers\n",
    "numbers = [1, 3, 2, 5, 4]\n",
    "largest = find_largest(numbers)\n",
    "print(f\"The largest number is {largest}.\")\n"
   ]
  }
 ],
 "metadata": {
  "kernelspec": {
   "display_name": "Python 3.8.9 64-bit",
   "language": "python",
   "name": "python3"
  },
  "language_info": {
   "codemirror_mode": {
    "name": "ipython",
    "version": 3
   },
   "file_extension": ".py",
   "mimetype": "text/x-python",
   "name": "python",
   "nbconvert_exporter": "python",
   "pygments_lexer": "ipython3",
   "version": "3.8.9"
  },
  "orig_nbformat": 4,
  "vscode": {
   "interpreter": {
    "hash": "31f2aee4e71d21fbe5cf8b01ff0e069b9275f58929596ceb00d14d90e3e16cd6"
   }
  }
 },
 "nbformat": 4,
 "nbformat_minor": 2
}
