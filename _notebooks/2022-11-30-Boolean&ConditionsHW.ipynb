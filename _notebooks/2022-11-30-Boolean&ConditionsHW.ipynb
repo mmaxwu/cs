{
 "cells": [
  {
   "cell_type": "markdown",
   "metadata": {},
   "source": [
    "# Boolean & Conditionals Problems\n",
    "- title: HW for Units 3.5, 3.6, and 3.7\n",
    "- description: Boolean & Conditionals Problems\n",
    "- toc: true\n",
    "- comments: true\n",
    "- categories: [Week 14, jupyter]"
   ]
  },
  {
   "cell_type": "markdown",
   "metadata": {},
   "source": [
    "## Nested Code Activity"
   ]
  },
  {
   "cell_type": "code",
   "execution_count": 1,
   "metadata": {
    "vscode": {
     "languageId": "javascript"
    }
   },
   "outputs": [
    {
     "name": "stdout",
     "output_type": "stream",
     "text": [
      "This person's salary is 150k, and they are experienced\n"
     ]
    }
   ],
   "source": [
    "hours = 11\n",
    "\n",
    "if (hours < 8)\n",
    "{\n",
    "    console.log (\"This person is unexperienced, salary is 50k!\")\n",
    "}\n",
    "else\n",
    "{\n",
    "    if (hours < 10)\n",
    "    {\n",
    "    console.log (\"This person's salary is 90k, and they are experienced\")\n",
    "    }\n",
    "    else \n",
    "    {\n",
    "    if (hours >= 10)\n",
    "    {\n",
    "    console.log (\"This person's salary is 150k, and they are experienced\")\n",
    "    }\n",
    "}\n",
    "}"
   ]
  },
  {
   "cell_type": "markdown",
   "metadata": {},
   "source": [
    "## Conditionals"
   ]
  },
  {
   "cell_type": "code",
   "execution_count": 3,
   "metadata": {
    "vscode": {
     "languageId": "javascript"
    }
   },
   "outputs": [
    {
     "name": "stdout",
     "output_type": "stream",
     "text": [
      "this is a cheap product\n"
     ]
    }
   ],
   "source": [
    "product = {\"expired\":false, \"cost\":10}\n",
    "\n",
    "if (product[\"expired\"] == true) {\n",
    "    console.log(\"this product is no good\")\n",
    "}\n",
    "else {\n",
    "    if (product[\"cost\"] > 50) {\n",
    "        console.log(\"this product is too expensive\")\n",
    "    }\n",
    "    else if (product[\"cost\"] > 25) {\n",
    "        console.log(\"this is a regular product\")\n",
    "    }\n",
    "    else {\n",
    "        console.log(\"this is a cheap product\")\n",
    "    }\n",
    "}"
   ]
  },
  {
   "cell_type": "markdown",
   "metadata": {},
   "source": [
    "## Multiple Choice Activity"
   ]
  },
  {
   "cell_type": "code",
   "execution_count": 5,
   "metadata": {
    "vscode": {
     "languageId": "javascript"
    }
   },
   "outputs": [
    {
     "name": "stdout",
     "output_type": "stream",
     "text": [
      "Who was the leader of the Stalwarts?\n",
      "\n",
      "a: Roscoe Conkling\n",
      "b: James A. Garfield\n",
      "c: James Blaine\n",
      "d: Chester A. Arthur\n",
      "\n",
      "correct\n",
      "you score is: 1\n",
      "\n",
      "What is the capital of Canada\n",
      "\n",
      "a: Otawa\n",
      "b: Ottawa\n",
      "c: Otawwa\n",
      "d: Otowa\n",
      "\n",
      "correct\n",
      "you score is: 2\n",
      "\n",
      "What country is winning the world cup this year?\n",
      "\n",
      "a: France\n",
      "b: Brazil\n",
      "c: England\n",
      "d: Argentina\n",
      "\n",
      "correct\n",
      "you score is: 3\n",
      "\n"
     ]
    }
   ],
   "source": [
    "qAndA = {\n",
    "    \"question\" : [\"Who was the leader of the Stalwarts?\", \"What is the capital of Canada\", \"What country is winning the world cup this year?\"],\n",
    "    \"answers\" : [[\"Roscoe Conkling\",\"James A. Garfield\",\"James Blaine\",\"Chester A. Arthur\"], [\"Otawa\",\"Ottawa\",\"Otawwa\",\"Otowa\"], [\"France\",\"Brazil\",\"England\",\"Argentina\"]], \n",
    "    \"correct\" : [\"a\", \"b\", \"d\"],\n",
    "    \"letters\" : [\"a\", \"b\", \"c\", \"d\"]\n",
    "    }\n",
    "\n",
    "totalQs = len(qAndA[\"question\"])\n",
    "i = 0\n",
    "score = 0\n",
    "\n",
    "while i != totalQs:\n",
    "    qAnswered = False\n",
    "\n",
    "    currentQ = qAndA[\"question\"][i]\n",
    "    print(currentQ + \"\\n\")\n",
    "    \n",
    "    n = 0\n",
    "\n",
    "    while n < 4:\n",
    "        print(str(qAndA[\"letters\"][n]) + \": \" + str(qAndA[\"answers\"][i][n]))\n",
    "        n += 1\n",
    "    \n",
    "    ans = input(currentQ)\n",
    "    ans.lower()\n",
    "    \n",
    "    print(\"\")\n",
    "    \n",
    "    while qAnswered == False:\n",
    "        if  ans == \"a\" or \"b\" or \"c\" or \"d\":\n",
    "            if ans == qAndA[\"correct\"][i]:\n",
    "                score += 1\n",
    "                print(\"correct\")\n",
    "            else:\n",
    "                print(\"incorrect :(\")\n",
    "\n",
    "            qAnswered = True\n",
    "        else:\n",
    "            print(\"Enter a valid letter option (a, b, c, or d)\")\n",
    "            \n",
    "    print(\"you score is: \" + str(score) + \"\\n\")\n",
    "    \n",
    "    i += 1"
   ]
  }
 ],
 "metadata": {
  "kernelspec": {
   "display_name": "Python 3.8.9 64-bit",
   "language": "python",
   "name": "python3"
  },
  "language_info": {
   "file_extension": ".js",
   "mimetype": "application/javascript",
   "name": "python",
   "version": "3.8.9"
  },
  "orig_nbformat": 4,
  "vscode": {
   "interpreter": {
    "hash": "31f2aee4e71d21fbe5cf8b01ff0e069b9275f58929596ceb00d14d90e3e16cd6"
   }
  }
 },
 "nbformat": 4,
 "nbformat_minor": 2
}
